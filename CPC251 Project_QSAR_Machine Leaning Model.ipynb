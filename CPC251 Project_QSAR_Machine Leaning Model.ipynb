{
 "cells": [
  {
   "cell_type": "markdown",
   "metadata": {},
   "source": [
    "# Machine Learning Model of QSAR Biodegradation dataset"
   ]
  },
  {
   "cell_type": "markdown",
   "metadata": {},
   "source": [
    "Done by:\n",
    "- Ng Jack Lung \n"
   ]
  },
  {
   "cell_type": "markdown",
   "metadata": {},
   "source": [
    "## 1) Data Collection\n",
    "<p style = \"font-family: Times New Roman\">Importing standard modules.</p>"
   ]
  },
  {
   "cell_type": "code",
   "execution_count": 1,
   "metadata": {},
   "outputs": [],
   "source": [
    "import pandas as pd\n",
    "import numpy as np\n",
    "import seaborn as sns\n",
    "import matplotlib.pyplot as plt\n",
    "import warnings\n",
    "warnings.filterwarnings('ignore') #ignore warning to imporve readability\n",
    "pd.set_option(\"display.max_columns\", 300) #make every column visible"
   ]
  },
  {
   "cell_type": "markdown",
   "metadata": {},
   "source": [
    "<p style = \"font-family: Times New Roman\">The dataset was obtained from UCI Machine Learning Repository:</p>"
   ]
  },
  {
   "cell_type": "markdown",
   "metadata": {},
   "source": [
    "https://archive.ics.uci.edu/ml/datasets/QSAR+biodegradation"
   ]
  },
  {
   "cell_type": "code",
   "execution_count": 2,
   "metadata": {},
   "outputs": [],
   "source": [
    "biodeg = pd.read_csv('Datasets/biodeg.csv', sep=';')"
   ]
  },
  {
   "cell_type": "code",
   "execution_count": 3,
   "metadata": {},
   "outputs": [
    {
     "data": {
      "text/html": [
       "<div>\n",
       "<style scoped>\n",
       "    .dataframe tbody tr th:only-of-type {\n",
       "        vertical-align: middle;\n",
       "    }\n",
       "\n",
       "    .dataframe tbody tr th {\n",
       "        vertical-align: top;\n",
       "    }\n",
       "\n",
       "    .dataframe thead th {\n",
       "        text-align: right;\n",
       "    }\n",
       "</style>\n",
       "<table border=\"1\" class=\"dataframe\">\n",
       "  <thead>\n",
       "    <tr style=\"text-align: right;\">\n",
       "      <th></th>\n",
       "      <th>SpMax_L</th>\n",
       "      <th>J_Dz(e)</th>\n",
       "      <th>nHM</th>\n",
       "      <th>F01[N-N]</th>\n",
       "      <th>F04[C-N]</th>\n",
       "      <th>NssssC</th>\n",
       "      <th>nCb-</th>\n",
       "      <th>C%</th>\n",
       "      <th>nCp</th>\n",
       "      <th>nO</th>\n",
       "      <th>F03[C-N]</th>\n",
       "      <th>SdssC</th>\n",
       "      <th>HyWi_B(m)</th>\n",
       "      <th>LOC</th>\n",
       "      <th>SM6_L</th>\n",
       "      <th>F03[C-O]</th>\n",
       "      <th>Me</th>\n",
       "      <th>Mi</th>\n",
       "      <th>nN-N</th>\n",
       "      <th>nArNO2</th>\n",
       "      <th>nCRX3</th>\n",
       "      <th>SpPosA_B(p)</th>\n",
       "      <th>nCIR</th>\n",
       "      <th>B01[C-Br]</th>\n",
       "      <th>B03[C-Cl]</th>\n",
       "      <th>N-073</th>\n",
       "      <th>SpMax_A</th>\n",
       "      <th>Psi_i_1d</th>\n",
       "      <th>B04[C-Br]</th>\n",
       "      <th>SdO</th>\n",
       "      <th>TI2_L</th>\n",
       "      <th>nCrt</th>\n",
       "      <th>C-026</th>\n",
       "      <th>F02[C-N]</th>\n",
       "      <th>nHDon</th>\n",
       "      <th>SpMax_B(m)</th>\n",
       "      <th>Psi_i_A</th>\n",
       "      <th>nN</th>\n",
       "      <th>SM6_B(m)</th>\n",
       "      <th>nArCOOR</th>\n",
       "      <th>nX</th>\n",
       "      <th>experimental_class</th>\n",
       "    </tr>\n",
       "  </thead>\n",
       "  <tbody>\n",
       "    <tr>\n",
       "      <th>0</th>\n",
       "      <td>3.919</td>\n",
       "      <td>2.6909</td>\n",
       "      <td>0</td>\n",
       "      <td>0</td>\n",
       "      <td>0</td>\n",
       "      <td>0</td>\n",
       "      <td>0</td>\n",
       "      <td>31.4</td>\n",
       "      <td>2</td>\n",
       "      <td>0</td>\n",
       "      <td>0</td>\n",
       "      <td>0.000</td>\n",
       "      <td>3.106</td>\n",
       "      <td>2.550</td>\n",
       "      <td>9.002</td>\n",
       "      <td>0</td>\n",
       "      <td>0.960</td>\n",
       "      <td>1.142</td>\n",
       "      <td>0</td>\n",
       "      <td>0</td>\n",
       "      <td>0</td>\n",
       "      <td>1.201</td>\n",
       "      <td>0</td>\n",
       "      <td>0</td>\n",
       "      <td>0</td>\n",
       "      <td>0</td>\n",
       "      <td>1.932</td>\n",
       "      <td>0.011</td>\n",
       "      <td>0</td>\n",
       "      <td>0.000</td>\n",
       "      <td>4.489</td>\n",
       "      <td>0</td>\n",
       "      <td>0</td>\n",
       "      <td>0</td>\n",
       "      <td>0</td>\n",
       "      <td>2.949</td>\n",
       "      <td>1.591</td>\n",
       "      <td>0</td>\n",
       "      <td>7.253</td>\n",
       "      <td>0</td>\n",
       "      <td>0</td>\n",
       "      <td>RB</td>\n",
       "    </tr>\n",
       "    <tr>\n",
       "      <th>1</th>\n",
       "      <td>4.170</td>\n",
       "      <td>2.1144</td>\n",
       "      <td>0</td>\n",
       "      <td>0</td>\n",
       "      <td>0</td>\n",
       "      <td>0</td>\n",
       "      <td>0</td>\n",
       "      <td>30.8</td>\n",
       "      <td>1</td>\n",
       "      <td>1</td>\n",
       "      <td>0</td>\n",
       "      <td>0.000</td>\n",
       "      <td>2.461</td>\n",
       "      <td>1.393</td>\n",
       "      <td>8.723</td>\n",
       "      <td>1</td>\n",
       "      <td>0.989</td>\n",
       "      <td>1.144</td>\n",
       "      <td>0</td>\n",
       "      <td>0</td>\n",
       "      <td>0</td>\n",
       "      <td>1.104</td>\n",
       "      <td>1</td>\n",
       "      <td>0</td>\n",
       "      <td>0</td>\n",
       "      <td>0</td>\n",
       "      <td>2.214</td>\n",
       "      <td>-0.204</td>\n",
       "      <td>0</td>\n",
       "      <td>0.000</td>\n",
       "      <td>1.542</td>\n",
       "      <td>0</td>\n",
       "      <td>0</td>\n",
       "      <td>0</td>\n",
       "      <td>0</td>\n",
       "      <td>3.315</td>\n",
       "      <td>1.967</td>\n",
       "      <td>0</td>\n",
       "      <td>7.257</td>\n",
       "      <td>0</td>\n",
       "      <td>0</td>\n",
       "      <td>RB</td>\n",
       "    </tr>\n",
       "    <tr>\n",
       "      <th>2</th>\n",
       "      <td>3.932</td>\n",
       "      <td>3.2512</td>\n",
       "      <td>0</td>\n",
       "      <td>0</td>\n",
       "      <td>0</td>\n",
       "      <td>0</td>\n",
       "      <td>0</td>\n",
       "      <td>26.7</td>\n",
       "      <td>2</td>\n",
       "      <td>4</td>\n",
       "      <td>0</td>\n",
       "      <td>0.000</td>\n",
       "      <td>3.279</td>\n",
       "      <td>2.585</td>\n",
       "      <td>9.110</td>\n",
       "      <td>0</td>\n",
       "      <td>1.009</td>\n",
       "      <td>1.152</td>\n",
       "      <td>0</td>\n",
       "      <td>0</td>\n",
       "      <td>0</td>\n",
       "      <td>1.092</td>\n",
       "      <td>0</td>\n",
       "      <td>0</td>\n",
       "      <td>0</td>\n",
       "      <td>0</td>\n",
       "      <td>1.942</td>\n",
       "      <td>-0.008</td>\n",
       "      <td>0</td>\n",
       "      <td>0.000</td>\n",
       "      <td>4.891</td>\n",
       "      <td>0</td>\n",
       "      <td>0</td>\n",
       "      <td>0</td>\n",
       "      <td>1</td>\n",
       "      <td>3.076</td>\n",
       "      <td>2.417</td>\n",
       "      <td>0</td>\n",
       "      <td>7.601</td>\n",
       "      <td>0</td>\n",
       "      <td>0</td>\n",
       "      <td>RB</td>\n",
       "    </tr>\n",
       "    <tr>\n",
       "      <th>3</th>\n",
       "      <td>3.000</td>\n",
       "      <td>2.7098</td>\n",
       "      <td>0</td>\n",
       "      <td>0</td>\n",
       "      <td>0</td>\n",
       "      <td>0</td>\n",
       "      <td>0</td>\n",
       "      <td>20.0</td>\n",
       "      <td>0</td>\n",
       "      <td>2</td>\n",
       "      <td>0</td>\n",
       "      <td>0.000</td>\n",
       "      <td>2.100</td>\n",
       "      <td>0.918</td>\n",
       "      <td>6.594</td>\n",
       "      <td>0</td>\n",
       "      <td>1.108</td>\n",
       "      <td>1.167</td>\n",
       "      <td>0</td>\n",
       "      <td>0</td>\n",
       "      <td>0</td>\n",
       "      <td>1.024</td>\n",
       "      <td>0</td>\n",
       "      <td>0</td>\n",
       "      <td>0</td>\n",
       "      <td>0</td>\n",
       "      <td>1.414</td>\n",
       "      <td>1.073</td>\n",
       "      <td>0</td>\n",
       "      <td>8.361</td>\n",
       "      <td>1.333</td>\n",
       "      <td>0</td>\n",
       "      <td>0</td>\n",
       "      <td>0</td>\n",
       "      <td>1</td>\n",
       "      <td>3.046</td>\n",
       "      <td>5.000</td>\n",
       "      <td>0</td>\n",
       "      <td>6.690</td>\n",
       "      <td>0</td>\n",
       "      <td>0</td>\n",
       "      <td>RB</td>\n",
       "    </tr>\n",
       "    <tr>\n",
       "      <th>4</th>\n",
       "      <td>4.236</td>\n",
       "      <td>3.3944</td>\n",
       "      <td>0</td>\n",
       "      <td>0</td>\n",
       "      <td>0</td>\n",
       "      <td>0</td>\n",
       "      <td>0</td>\n",
       "      <td>29.4</td>\n",
       "      <td>2</td>\n",
       "      <td>4</td>\n",
       "      <td>0</td>\n",
       "      <td>-0.271</td>\n",
       "      <td>3.449</td>\n",
       "      <td>2.753</td>\n",
       "      <td>9.528</td>\n",
       "      <td>2</td>\n",
       "      <td>1.004</td>\n",
       "      <td>1.147</td>\n",
       "      <td>0</td>\n",
       "      <td>0</td>\n",
       "      <td>0</td>\n",
       "      <td>1.137</td>\n",
       "      <td>0</td>\n",
       "      <td>0</td>\n",
       "      <td>0</td>\n",
       "      <td>0</td>\n",
       "      <td>1.985</td>\n",
       "      <td>-0.002</td>\n",
       "      <td>0</td>\n",
       "      <td>10.348</td>\n",
       "      <td>5.588</td>\n",
       "      <td>0</td>\n",
       "      <td>0</td>\n",
       "      <td>0</td>\n",
       "      <td>0</td>\n",
       "      <td>3.351</td>\n",
       "      <td>2.405</td>\n",
       "      <td>0</td>\n",
       "      <td>8.003</td>\n",
       "      <td>0</td>\n",
       "      <td>0</td>\n",
       "      <td>RB</td>\n",
       "    </tr>\n",
       "  </tbody>\n",
       "</table>\n",
       "</div>"
      ],
      "text/plain": [
       "   SpMax_L  J_Dz(e)  nHM  F01[N-N]  F04[C-N]  NssssC  nCb-    C%  nCp  nO  \\\n",
       "0    3.919   2.6909    0         0         0       0     0  31.4    2   0   \n",
       "1    4.170   2.1144    0         0         0       0     0  30.8    1   1   \n",
       "2    3.932   3.2512    0         0         0       0     0  26.7    2   4   \n",
       "3    3.000   2.7098    0         0         0       0     0  20.0    0   2   \n",
       "4    4.236   3.3944    0         0         0       0     0  29.4    2   4   \n",
       "\n",
       "   F03[C-N]  SdssC  HyWi_B(m)    LOC  SM6_L  F03[C-O]     Me     Mi  nN-N  \\\n",
       "0         0  0.000      3.106  2.550  9.002         0  0.960  1.142     0   \n",
       "1         0  0.000      2.461  1.393  8.723         1  0.989  1.144     0   \n",
       "2         0  0.000      3.279  2.585  9.110         0  1.009  1.152     0   \n",
       "3         0  0.000      2.100  0.918  6.594         0  1.108  1.167     0   \n",
       "4         0 -0.271      3.449  2.753  9.528         2  1.004  1.147     0   \n",
       "\n",
       "   nArNO2  nCRX3  SpPosA_B(p)  nCIR  B01[C-Br]  B03[C-Cl]  N-073  SpMax_A  \\\n",
       "0       0      0        1.201     0          0          0      0    1.932   \n",
       "1       0      0        1.104     1          0          0      0    2.214   \n",
       "2       0      0        1.092     0          0          0      0    1.942   \n",
       "3       0      0        1.024     0          0          0      0    1.414   \n",
       "4       0      0        1.137     0          0          0      0    1.985   \n",
       "\n",
       "   Psi_i_1d  B04[C-Br]     SdO  TI2_L  nCrt  C-026  F02[C-N]  nHDon  \\\n",
       "0     0.011          0   0.000  4.489     0      0         0      0   \n",
       "1    -0.204          0   0.000  1.542     0      0         0      0   \n",
       "2    -0.008          0   0.000  4.891     0      0         0      1   \n",
       "3     1.073          0   8.361  1.333     0      0         0      1   \n",
       "4    -0.002          0  10.348  5.588     0      0         0      0   \n",
       "\n",
       "   SpMax_B(m)  Psi_i_A  nN  SM6_B(m)  nArCOOR  nX experimental_class  \n",
       "0       2.949    1.591   0     7.253        0   0                 RB  \n",
       "1       3.315    1.967   0     7.257        0   0                 RB  \n",
       "2       3.076    2.417   0     7.601        0   0                 RB  \n",
       "3       3.046    5.000   0     6.690        0   0                 RB  \n",
       "4       3.351    2.405   0     8.003        0   0                 RB  "
      ]
     },
     "execution_count": 3,
     "metadata": {},
     "output_type": "execute_result"
    }
   ],
   "source": [
    "biodeg.head()"
   ]
  },
  {
   "cell_type": "code",
   "execution_count": 4,
   "metadata": {},
   "outputs": [
    {
     "data": {
      "text/plain": [
       "(1055, 42)"
      ]
     },
     "execution_count": 4,
     "metadata": {},
     "output_type": "execute_result"
    }
   ],
   "source": [
    "biodeg.shape"
   ]
  },
  {
   "cell_type": "markdown",
   "metadata": {},
   "source": [
    "<p style = \"font-family: Times New Roman\">We can see that there are total 41 features and 1 target class named 'experimental_class' in this dataset. Also, there are 1055 instances.</p>"
   ]
  },
  {
   "cell_type": "markdown",
   "metadata": {},
   "source": [
    "## 2) Data Cleaning\n",
    "<p style = \"font-family: Times New Roman\">Making sure the dataset is valid for machine learning.</p>"
   ]
  },
  {
   "cell_type": "code",
   "execution_count": 5,
   "metadata": {},
   "outputs": [
    {
     "data": {
      "text/plain": [
       "SpMax_L               float64\n",
       "J_Dz(e)               float64\n",
       "nHM                     int64\n",
       "F01[N-N]                int64\n",
       "F04[C-N]                int64\n",
       "NssssC                  int64\n",
       "nCb-                    int64\n",
       "C%                    float64\n",
       "nCp                     int64\n",
       "nO                      int64\n",
       "F03[C-N]                int64\n",
       "SdssC                 float64\n",
       "HyWi_B(m)             float64\n",
       "LOC                   float64\n",
       "SM6_L                 float64\n",
       "F03[C-O]                int64\n",
       "Me                    float64\n",
       "Mi                    float64\n",
       "nN-N                    int64\n",
       "nArNO2                  int64\n",
       "nCRX3                   int64\n",
       "SpPosA_B(p)           float64\n",
       "nCIR                    int64\n",
       "B01[C-Br]               int64\n",
       "B03[C-Cl]               int64\n",
       "N-073                   int64\n",
       "SpMax_A               float64\n",
       "Psi_i_1d              float64\n",
       "B04[C-Br]               int64\n",
       "SdO                   float64\n",
       "TI2_L                 float64\n",
       "nCrt                    int64\n",
       "C-026                   int64\n",
       "F02[C-N]                int64\n",
       "nHDon                   int64\n",
       "SpMax_B(m)            float64\n",
       "Psi_i_A               float64\n",
       "nN                      int64\n",
       "SM6_B(m)              float64\n",
       "nArCOOR                 int64\n",
       "nX                      int64\n",
       "experimental_class     object\n",
       "dtype: object"
      ]
     },
     "execution_count": 5,
     "metadata": {},
     "output_type": "execute_result"
    }
   ],
   "source": [
    "biodeg.dtypes"
   ]
  },
  {
   "cell_type": "markdown",
   "metadata": {},
   "source": [
    "<p style = \"font-family: Times New Roman\">As we can see, all the attribute columns are numerical data except our target column.</p>"
   ]
  },
  {
   "cell_type": "code",
   "execution_count": 6,
   "metadata": {},
   "outputs": [
    {
     "data": {
      "text/plain": [
       "array(['RB', 'NRB'], dtype=object)"
      ]
     },
     "execution_count": 6,
     "metadata": {},
     "output_type": "execute_result"
    }
   ],
   "source": [
    "pd.unique(biodeg.experimental_class)"
   ]
  },
  {
   "cell_type": "markdown",
   "metadata": {},
   "source": [
    "## 2.1 Replacing object/string classes with numbers\n",
    "<p style = \"font-family: Times New Roman\">Since our target is in string, we will replace NRB(which stands for not ready biodegradable) into 0 whilst replacing RB(ready biodegradable) into 1. For easier understanding purpose we will replace our target column's name too.</p>"
   ]
  },
  {
   "cell_type": "code",
   "execution_count": 7,
   "metadata": {},
   "outputs": [
    {
     "data": {
      "text/html": [
       "<div>\n",
       "<style scoped>\n",
       "    .dataframe tbody tr th:only-of-type {\n",
       "        vertical-align: middle;\n",
       "    }\n",
       "\n",
       "    .dataframe tbody tr th {\n",
       "        vertical-align: top;\n",
       "    }\n",
       "\n",
       "    .dataframe thead th {\n",
       "        text-align: right;\n",
       "    }\n",
       "</style>\n",
       "<table border=\"1\" class=\"dataframe\">\n",
       "  <thead>\n",
       "    <tr style=\"text-align: right;\">\n",
       "      <th></th>\n",
       "      <th>SpMax_L</th>\n",
       "      <th>J_Dz(e)</th>\n",
       "      <th>nHM</th>\n",
       "      <th>F01[N-N]</th>\n",
       "      <th>F04[C-N]</th>\n",
       "      <th>NssssC</th>\n",
       "      <th>nCb-</th>\n",
       "      <th>C%</th>\n",
       "      <th>nCp</th>\n",
       "      <th>nO</th>\n",
       "      <th>F03[C-N]</th>\n",
       "      <th>SdssC</th>\n",
       "      <th>HyWi_B(m)</th>\n",
       "      <th>LOC</th>\n",
       "      <th>SM6_L</th>\n",
       "      <th>F03[C-O]</th>\n",
       "      <th>Me</th>\n",
       "      <th>Mi</th>\n",
       "      <th>nN-N</th>\n",
       "      <th>nArNO2</th>\n",
       "      <th>nCRX3</th>\n",
       "      <th>SpPosA_B(p)</th>\n",
       "      <th>nCIR</th>\n",
       "      <th>B01[C-Br]</th>\n",
       "      <th>B03[C-Cl]</th>\n",
       "      <th>N-073</th>\n",
       "      <th>SpMax_A</th>\n",
       "      <th>Psi_i_1d</th>\n",
       "      <th>B04[C-Br]</th>\n",
       "      <th>SdO</th>\n",
       "      <th>TI2_L</th>\n",
       "      <th>nCrt</th>\n",
       "      <th>C-026</th>\n",
       "      <th>F02[C-N]</th>\n",
       "      <th>nHDon</th>\n",
       "      <th>SpMax_B(m)</th>\n",
       "      <th>Psi_i_A</th>\n",
       "      <th>nN</th>\n",
       "      <th>SM6_B(m)</th>\n",
       "      <th>nArCOOR</th>\n",
       "      <th>nX</th>\n",
       "      <th>ready_degradable</th>\n",
       "    </tr>\n",
       "  </thead>\n",
       "  <tbody>\n",
       "    <tr>\n",
       "      <th>0</th>\n",
       "      <td>3.919</td>\n",
       "      <td>2.6909</td>\n",
       "      <td>0</td>\n",
       "      <td>0</td>\n",
       "      <td>0</td>\n",
       "      <td>0</td>\n",
       "      <td>0</td>\n",
       "      <td>31.4</td>\n",
       "      <td>2</td>\n",
       "      <td>0</td>\n",
       "      <td>0</td>\n",
       "      <td>0.000</td>\n",
       "      <td>3.106</td>\n",
       "      <td>2.550</td>\n",
       "      <td>9.002</td>\n",
       "      <td>0</td>\n",
       "      <td>0.960</td>\n",
       "      <td>1.142</td>\n",
       "      <td>0</td>\n",
       "      <td>0</td>\n",
       "      <td>0</td>\n",
       "      <td>1.201</td>\n",
       "      <td>0</td>\n",
       "      <td>0</td>\n",
       "      <td>0</td>\n",
       "      <td>0</td>\n",
       "      <td>1.932</td>\n",
       "      <td>0.011</td>\n",
       "      <td>0</td>\n",
       "      <td>0.000</td>\n",
       "      <td>4.489</td>\n",
       "      <td>0</td>\n",
       "      <td>0</td>\n",
       "      <td>0</td>\n",
       "      <td>0</td>\n",
       "      <td>2.949</td>\n",
       "      <td>1.591</td>\n",
       "      <td>0</td>\n",
       "      <td>7.253</td>\n",
       "      <td>0</td>\n",
       "      <td>0</td>\n",
       "      <td>1</td>\n",
       "    </tr>\n",
       "    <tr>\n",
       "      <th>1</th>\n",
       "      <td>4.170</td>\n",
       "      <td>2.1144</td>\n",
       "      <td>0</td>\n",
       "      <td>0</td>\n",
       "      <td>0</td>\n",
       "      <td>0</td>\n",
       "      <td>0</td>\n",
       "      <td>30.8</td>\n",
       "      <td>1</td>\n",
       "      <td>1</td>\n",
       "      <td>0</td>\n",
       "      <td>0.000</td>\n",
       "      <td>2.461</td>\n",
       "      <td>1.393</td>\n",
       "      <td>8.723</td>\n",
       "      <td>1</td>\n",
       "      <td>0.989</td>\n",
       "      <td>1.144</td>\n",
       "      <td>0</td>\n",
       "      <td>0</td>\n",
       "      <td>0</td>\n",
       "      <td>1.104</td>\n",
       "      <td>1</td>\n",
       "      <td>0</td>\n",
       "      <td>0</td>\n",
       "      <td>0</td>\n",
       "      <td>2.214</td>\n",
       "      <td>-0.204</td>\n",
       "      <td>0</td>\n",
       "      <td>0.000</td>\n",
       "      <td>1.542</td>\n",
       "      <td>0</td>\n",
       "      <td>0</td>\n",
       "      <td>0</td>\n",
       "      <td>0</td>\n",
       "      <td>3.315</td>\n",
       "      <td>1.967</td>\n",
       "      <td>0</td>\n",
       "      <td>7.257</td>\n",
       "      <td>0</td>\n",
       "      <td>0</td>\n",
       "      <td>1</td>\n",
       "    </tr>\n",
       "    <tr>\n",
       "      <th>2</th>\n",
       "      <td>3.932</td>\n",
       "      <td>3.2512</td>\n",
       "      <td>0</td>\n",
       "      <td>0</td>\n",
       "      <td>0</td>\n",
       "      <td>0</td>\n",
       "      <td>0</td>\n",
       "      <td>26.7</td>\n",
       "      <td>2</td>\n",
       "      <td>4</td>\n",
       "      <td>0</td>\n",
       "      <td>0.000</td>\n",
       "      <td>3.279</td>\n",
       "      <td>2.585</td>\n",
       "      <td>9.110</td>\n",
       "      <td>0</td>\n",
       "      <td>1.009</td>\n",
       "      <td>1.152</td>\n",
       "      <td>0</td>\n",
       "      <td>0</td>\n",
       "      <td>0</td>\n",
       "      <td>1.092</td>\n",
       "      <td>0</td>\n",
       "      <td>0</td>\n",
       "      <td>0</td>\n",
       "      <td>0</td>\n",
       "      <td>1.942</td>\n",
       "      <td>-0.008</td>\n",
       "      <td>0</td>\n",
       "      <td>0.000</td>\n",
       "      <td>4.891</td>\n",
       "      <td>0</td>\n",
       "      <td>0</td>\n",
       "      <td>0</td>\n",
       "      <td>1</td>\n",
       "      <td>3.076</td>\n",
       "      <td>2.417</td>\n",
       "      <td>0</td>\n",
       "      <td>7.601</td>\n",
       "      <td>0</td>\n",
       "      <td>0</td>\n",
       "      <td>1</td>\n",
       "    </tr>\n",
       "    <tr>\n",
       "      <th>3</th>\n",
       "      <td>3.000</td>\n",
       "      <td>2.7098</td>\n",
       "      <td>0</td>\n",
       "      <td>0</td>\n",
       "      <td>0</td>\n",
       "      <td>0</td>\n",
       "      <td>0</td>\n",
       "      <td>20.0</td>\n",
       "      <td>0</td>\n",
       "      <td>2</td>\n",
       "      <td>0</td>\n",
       "      <td>0.000</td>\n",
       "      <td>2.100</td>\n",
       "      <td>0.918</td>\n",
       "      <td>6.594</td>\n",
       "      <td>0</td>\n",
       "      <td>1.108</td>\n",
       "      <td>1.167</td>\n",
       "      <td>0</td>\n",
       "      <td>0</td>\n",
       "      <td>0</td>\n",
       "      <td>1.024</td>\n",
       "      <td>0</td>\n",
       "      <td>0</td>\n",
       "      <td>0</td>\n",
       "      <td>0</td>\n",
       "      <td>1.414</td>\n",
       "      <td>1.073</td>\n",
       "      <td>0</td>\n",
       "      <td>8.361</td>\n",
       "      <td>1.333</td>\n",
       "      <td>0</td>\n",
       "      <td>0</td>\n",
       "      <td>0</td>\n",
       "      <td>1</td>\n",
       "      <td>3.046</td>\n",
       "      <td>5.000</td>\n",
       "      <td>0</td>\n",
       "      <td>6.690</td>\n",
       "      <td>0</td>\n",
       "      <td>0</td>\n",
       "      <td>1</td>\n",
       "    </tr>\n",
       "    <tr>\n",
       "      <th>4</th>\n",
       "      <td>4.236</td>\n",
       "      <td>3.3944</td>\n",
       "      <td>0</td>\n",
       "      <td>0</td>\n",
       "      <td>0</td>\n",
       "      <td>0</td>\n",
       "      <td>0</td>\n",
       "      <td>29.4</td>\n",
       "      <td>2</td>\n",
       "      <td>4</td>\n",
       "      <td>0</td>\n",
       "      <td>-0.271</td>\n",
       "      <td>3.449</td>\n",
       "      <td>2.753</td>\n",
       "      <td>9.528</td>\n",
       "      <td>2</td>\n",
       "      <td>1.004</td>\n",
       "      <td>1.147</td>\n",
       "      <td>0</td>\n",
       "      <td>0</td>\n",
       "      <td>0</td>\n",
       "      <td>1.137</td>\n",
       "      <td>0</td>\n",
       "      <td>0</td>\n",
       "      <td>0</td>\n",
       "      <td>0</td>\n",
       "      <td>1.985</td>\n",
       "      <td>-0.002</td>\n",
       "      <td>0</td>\n",
       "      <td>10.348</td>\n",
       "      <td>5.588</td>\n",
       "      <td>0</td>\n",
       "      <td>0</td>\n",
       "      <td>0</td>\n",
       "      <td>0</td>\n",
       "      <td>3.351</td>\n",
       "      <td>2.405</td>\n",
       "      <td>0</td>\n",
       "      <td>8.003</td>\n",
       "      <td>0</td>\n",
       "      <td>0</td>\n",
       "      <td>1</td>\n",
       "    </tr>\n",
       "  </tbody>\n",
       "</table>\n",
       "</div>"
      ],
      "text/plain": [
       "   SpMax_L  J_Dz(e)  nHM  F01[N-N]  F04[C-N]  NssssC  nCb-    C%  nCp  nO  \\\n",
       "0    3.919   2.6909    0         0         0       0     0  31.4    2   0   \n",
       "1    4.170   2.1144    0         0         0       0     0  30.8    1   1   \n",
       "2    3.932   3.2512    0         0         0       0     0  26.7    2   4   \n",
       "3    3.000   2.7098    0         0         0       0     0  20.0    0   2   \n",
       "4    4.236   3.3944    0         0         0       0     0  29.4    2   4   \n",
       "\n",
       "   F03[C-N]  SdssC  HyWi_B(m)    LOC  SM6_L  F03[C-O]     Me     Mi  nN-N  \\\n",
       "0         0  0.000      3.106  2.550  9.002         0  0.960  1.142     0   \n",
       "1         0  0.000      2.461  1.393  8.723         1  0.989  1.144     0   \n",
       "2         0  0.000      3.279  2.585  9.110         0  1.009  1.152     0   \n",
       "3         0  0.000      2.100  0.918  6.594         0  1.108  1.167     0   \n",
       "4         0 -0.271      3.449  2.753  9.528         2  1.004  1.147     0   \n",
       "\n",
       "   nArNO2  nCRX3  SpPosA_B(p)  nCIR  B01[C-Br]  B03[C-Cl]  N-073  SpMax_A  \\\n",
       "0       0      0        1.201     0          0          0      0    1.932   \n",
       "1       0      0        1.104     1          0          0      0    2.214   \n",
       "2       0      0        1.092     0          0          0      0    1.942   \n",
       "3       0      0        1.024     0          0          0      0    1.414   \n",
       "4       0      0        1.137     0          0          0      0    1.985   \n",
       "\n",
       "   Psi_i_1d  B04[C-Br]     SdO  TI2_L  nCrt  C-026  F02[C-N]  nHDon  \\\n",
       "0     0.011          0   0.000  4.489     0      0         0      0   \n",
       "1    -0.204          0   0.000  1.542     0      0         0      0   \n",
       "2    -0.008          0   0.000  4.891     0      0         0      1   \n",
       "3     1.073          0   8.361  1.333     0      0         0      1   \n",
       "4    -0.002          0  10.348  5.588     0      0         0      0   \n",
       "\n",
       "   SpMax_B(m)  Psi_i_A  nN  SM6_B(m)  nArCOOR  nX  ready_degradable  \n",
       "0       2.949    1.591   0     7.253        0   0                 1  \n",
       "1       3.315    1.967   0     7.257        0   0                 1  \n",
       "2       3.076    2.417   0     7.601        0   0                 1  \n",
       "3       3.046    5.000   0     6.690        0   0                 1  \n",
       "4       3.351    2.405   0     8.003        0   0                 1  "
      ]
     },
     "execution_count": 7,
     "metadata": {},
     "output_type": "execute_result"
    }
   ],
   "source": [
    "biodeg['experimental_class'].replace('NRB', 0, inplace=True)\n",
    "biodeg['experimental_class'].replace('RB', 1, inplace=True)\n",
    "biodeg.rename(columns = {\"experimental_class\": \"ready_degradable\"}, inplace = True)\n",
    "biodeg.head()"
   ]
  },
  {
   "cell_type": "code",
   "execution_count": 8,
   "metadata": {},
   "outputs": [
    {
     "data": {
      "text/plain": [
       "array([1, 0], dtype=int64)"
      ]
     },
     "execution_count": 8,
     "metadata": {},
     "output_type": "execute_result"
    }
   ],
   "source": [
    "pd.unique(biodeg.ready_degradable)"
   ]
  },
  {
   "cell_type": "markdown",
   "metadata": {},
   "source": [
    "## 2.2 Checking Missing Values"
   ]
  },
  {
   "cell_type": "markdown",
   "metadata": {},
   "source": [
    "<p style = \"font-family: Times New Roman\">Let's see whether this dataset having any missing values or not.</p>"
   ]
  },
  {
   "cell_type": "code",
   "execution_count": 9,
   "metadata": {},
   "outputs": [
    {
     "data": {
      "text/plain": [
       "0"
      ]
     },
     "execution_count": 9,
     "metadata": {},
     "output_type": "execute_result"
    }
   ],
   "source": [
    "biodeg.isnull().sum().sum()"
   ]
  },
  {
   "cell_type": "markdown",
   "metadata": {},
   "source": [
    "<p style = \"font-family: Times New Roman\">Nice, the dataset does not have any missing value, we can proceed to next step.</p>"
   ]
  },
  {
   "cell_type": "markdown",
   "metadata": {},
   "source": [
    "## 3) Exploratory Data Analysis (EDA)"
   ]
  },
  {
   "cell_type": "code",
   "execution_count": 10,
   "metadata": {},
   "outputs": [
    {
     "data": {
      "text/html": [
       "<div>\n",
       "<style scoped>\n",
       "    .dataframe tbody tr th:only-of-type {\n",
       "        vertical-align: middle;\n",
       "    }\n",
       "\n",
       "    .dataframe tbody tr th {\n",
       "        vertical-align: top;\n",
       "    }\n",
       "\n",
       "    .dataframe thead th {\n",
       "        text-align: right;\n",
       "    }\n",
       "</style>\n",
       "<table border=\"1\" class=\"dataframe\">\n",
       "  <thead>\n",
       "    <tr style=\"text-align: right;\">\n",
       "      <th></th>\n",
       "      <th>SpMax_L</th>\n",
       "      <th>J_Dz(e)</th>\n",
       "      <th>nHM</th>\n",
       "      <th>F01[N-N]</th>\n",
       "      <th>F04[C-N]</th>\n",
       "      <th>NssssC</th>\n",
       "      <th>nCb-</th>\n",
       "      <th>C%</th>\n",
       "      <th>nCp</th>\n",
       "      <th>nO</th>\n",
       "      <th>F03[C-N]</th>\n",
       "      <th>SdssC</th>\n",
       "      <th>HyWi_B(m)</th>\n",
       "      <th>LOC</th>\n",
       "      <th>SM6_L</th>\n",
       "      <th>F03[C-O]</th>\n",
       "      <th>Me</th>\n",
       "      <th>Mi</th>\n",
       "      <th>nN-N</th>\n",
       "      <th>nArNO2</th>\n",
       "      <th>nCRX3</th>\n",
       "      <th>SpPosA_B(p)</th>\n",
       "      <th>nCIR</th>\n",
       "      <th>B01[C-Br]</th>\n",
       "      <th>B03[C-Cl]</th>\n",
       "      <th>N-073</th>\n",
       "      <th>SpMax_A</th>\n",
       "      <th>Psi_i_1d</th>\n",
       "      <th>B04[C-Br]</th>\n",
       "      <th>SdO</th>\n",
       "      <th>TI2_L</th>\n",
       "      <th>nCrt</th>\n",
       "      <th>C-026</th>\n",
       "      <th>F02[C-N]</th>\n",
       "      <th>nHDon</th>\n",
       "      <th>SpMax_B(m)</th>\n",
       "      <th>Psi_i_A</th>\n",
       "      <th>nN</th>\n",
       "      <th>SM6_B(m)</th>\n",
       "      <th>nArCOOR</th>\n",
       "      <th>nX</th>\n",
       "      <th>ready_degradable</th>\n",
       "    </tr>\n",
       "  </thead>\n",
       "  <tbody>\n",
       "    <tr>\n",
       "      <th>count</th>\n",
       "      <td>1055.000000</td>\n",
       "      <td>1055.000000</td>\n",
       "      <td>1055.000000</td>\n",
       "      <td>1055.000000</td>\n",
       "      <td>1055.000000</td>\n",
       "      <td>1055.000000</td>\n",
       "      <td>1055.000000</td>\n",
       "      <td>1055.000000</td>\n",
       "      <td>1055.000000</td>\n",
       "      <td>1055.000000</td>\n",
       "      <td>1055.000000</td>\n",
       "      <td>1055.000000</td>\n",
       "      <td>1055.000000</td>\n",
       "      <td>1055.000000</td>\n",
       "      <td>1055.000000</td>\n",
       "      <td>1055.000000</td>\n",
       "      <td>1055.000000</td>\n",
       "      <td>1055.000000</td>\n",
       "      <td>1055.000000</td>\n",
       "      <td>1055.000000</td>\n",
       "      <td>1055.000000</td>\n",
       "      <td>1055.000000</td>\n",
       "      <td>1055.000000</td>\n",
       "      <td>1055.000000</td>\n",
       "      <td>1055.000000</td>\n",
       "      <td>1055.000000</td>\n",
       "      <td>1055.000000</td>\n",
       "      <td>1055.000000</td>\n",
       "      <td>1055.000000</td>\n",
       "      <td>1055.000000</td>\n",
       "      <td>1055.000000</td>\n",
       "      <td>1055.000000</td>\n",
       "      <td>1055.000000</td>\n",
       "      <td>1055.000000</td>\n",
       "      <td>1055.000000</td>\n",
       "      <td>1055.000000</td>\n",
       "      <td>1055.000000</td>\n",
       "      <td>1055.000000</td>\n",
       "      <td>1055.000000</td>\n",
       "      <td>1055.000000</td>\n",
       "      <td>1055.000000</td>\n",
       "      <td>1055.000000</td>\n",
       "    </tr>\n",
       "    <tr>\n",
       "      <th>mean</th>\n",
       "      <td>4.782644</td>\n",
       "      <td>3.069508</td>\n",
       "      <td>0.716588</td>\n",
       "      <td>0.042654</td>\n",
       "      <td>0.980095</td>\n",
       "      <td>0.290047</td>\n",
       "      <td>1.646445</td>\n",
       "      <td>37.055640</td>\n",
       "      <td>1.376303</td>\n",
       "      <td>1.803791</td>\n",
       "      <td>1.436967</td>\n",
       "      <td>-0.197129</td>\n",
       "      <td>3.476844</td>\n",
       "      <td>1.350716</td>\n",
       "      <td>9.937381</td>\n",
       "      <td>3.630332</td>\n",
       "      <td>1.013302</td>\n",
       "      <td>1.131106</td>\n",
       "      <td>0.008531</td>\n",
       "      <td>0.073934</td>\n",
       "      <td>0.029384</td>\n",
       "      <td>1.238727</td>\n",
       "      <td>1.405687</td>\n",
       "      <td>0.039810</td>\n",
       "      <td>0.147867</td>\n",
       "      <td>0.031280</td>\n",
       "      <td>2.215641</td>\n",
       "      <td>-0.001206</td>\n",
       "      <td>0.026540</td>\n",
       "      <td>8.780510</td>\n",
       "      <td>2.668344</td>\n",
       "      <td>0.129858</td>\n",
       "      <td>0.883412</td>\n",
       "      <td>1.274882</td>\n",
       "      <td>0.961137</td>\n",
       "      <td>3.918240</td>\n",
       "      <td>2.558417</td>\n",
       "      <td>0.686256</td>\n",
       "      <td>8.629492</td>\n",
       "      <td>0.051185</td>\n",
       "      <td>0.723223</td>\n",
       "      <td>0.337441</td>\n",
       "    </tr>\n",
       "    <tr>\n",
       "      <th>std</th>\n",
       "      <td>0.546916</td>\n",
       "      <td>0.831308</td>\n",
       "      <td>1.462452</td>\n",
       "      <td>0.256010</td>\n",
       "      <td>2.332955</td>\n",
       "      <td>1.073771</td>\n",
       "      <td>2.224822</td>\n",
       "      <td>9.144466</td>\n",
       "      <td>1.963521</td>\n",
       "      <td>1.775435</td>\n",
       "      <td>3.116577</td>\n",
       "      <td>0.769662</td>\n",
       "      <td>0.584150</td>\n",
       "      <td>0.786166</td>\n",
       "      <td>0.928678</td>\n",
       "      <td>4.457243</td>\n",
       "      <td>0.046494</td>\n",
       "      <td>0.030143</td>\n",
       "      <td>0.101802</td>\n",
       "      <td>0.317475</td>\n",
       "      <td>0.217997</td>\n",
       "      <td>0.096466</td>\n",
       "      <td>4.788542</td>\n",
       "      <td>0.195606</td>\n",
       "      <td>0.355137</td>\n",
       "      <td>0.199544</td>\n",
       "      <td>0.226131</td>\n",
       "      <td>0.158928</td>\n",
       "      <td>0.160812</td>\n",
       "      <td>11.895889</td>\n",
       "      <td>2.096607</td>\n",
       "      <td>0.644057</td>\n",
       "      <td>1.520467</td>\n",
       "      <td>2.273994</td>\n",
       "      <td>1.257013</td>\n",
       "      <td>0.999602</td>\n",
       "      <td>0.642765</td>\n",
       "      <td>1.090389</td>\n",
       "      <td>1.241986</td>\n",
       "      <td>0.318970</td>\n",
       "      <td>2.239286</td>\n",
       "      <td>0.473061</td>\n",
       "    </tr>\n",
       "    <tr>\n",
       "      <th>min</th>\n",
       "      <td>2.000000</td>\n",
       "      <td>0.803900</td>\n",
       "      <td>0.000000</td>\n",
       "      <td>0.000000</td>\n",
       "      <td>0.000000</td>\n",
       "      <td>0.000000</td>\n",
       "      <td>0.000000</td>\n",
       "      <td>0.000000</td>\n",
       "      <td>0.000000</td>\n",
       "      <td>0.000000</td>\n",
       "      <td>0.000000</td>\n",
       "      <td>-5.256000</td>\n",
       "      <td>1.544000</td>\n",
       "      <td>0.000000</td>\n",
       "      <td>4.174000</td>\n",
       "      <td>0.000000</td>\n",
       "      <td>0.957000</td>\n",
       "      <td>1.022000</td>\n",
       "      <td>0.000000</td>\n",
       "      <td>0.000000</td>\n",
       "      <td>0.000000</td>\n",
       "      <td>0.863000</td>\n",
       "      <td>0.000000</td>\n",
       "      <td>0.000000</td>\n",
       "      <td>0.000000</td>\n",
       "      <td>0.000000</td>\n",
       "      <td>1.000000</td>\n",
       "      <td>-1.099000</td>\n",
       "      <td>0.000000</td>\n",
       "      <td>0.000000</td>\n",
       "      <td>0.444000</td>\n",
       "      <td>0.000000</td>\n",
       "      <td>0.000000</td>\n",
       "      <td>0.000000</td>\n",
       "      <td>0.000000</td>\n",
       "      <td>2.267000</td>\n",
       "      <td>1.467000</td>\n",
       "      <td>0.000000</td>\n",
       "      <td>4.917000</td>\n",
       "      <td>0.000000</td>\n",
       "      <td>0.000000</td>\n",
       "      <td>0.000000</td>\n",
       "    </tr>\n",
       "    <tr>\n",
       "      <th>25%</th>\n",
       "      <td>4.481000</td>\n",
       "      <td>2.502750</td>\n",
       "      <td>0.000000</td>\n",
       "      <td>0.000000</td>\n",
       "      <td>0.000000</td>\n",
       "      <td>0.000000</td>\n",
       "      <td>0.000000</td>\n",
       "      <td>30.450000</td>\n",
       "      <td>0.000000</td>\n",
       "      <td>0.000000</td>\n",
       "      <td>0.000000</td>\n",
       "      <td>-0.191000</td>\n",
       "      <td>3.105000</td>\n",
       "      <td>0.875000</td>\n",
       "      <td>9.533000</td>\n",
       "      <td>0.000000</td>\n",
       "      <td>0.983000</td>\n",
       "      <td>1.116000</td>\n",
       "      <td>0.000000</td>\n",
       "      <td>0.000000</td>\n",
       "      <td>0.000000</td>\n",
       "      <td>1.182000</td>\n",
       "      <td>0.000000</td>\n",
       "      <td>0.000000</td>\n",
       "      <td>0.000000</td>\n",
       "      <td>0.000000</td>\n",
       "      <td>2.101000</td>\n",
       "      <td>-0.008000</td>\n",
       "      <td>0.000000</td>\n",
       "      <td>0.000000</td>\n",
       "      <td>1.446500</td>\n",
       "      <td>0.000000</td>\n",
       "      <td>0.000000</td>\n",
       "      <td>0.000000</td>\n",
       "      <td>0.000000</td>\n",
       "      <td>3.487500</td>\n",
       "      <td>2.103000</td>\n",
       "      <td>0.000000</td>\n",
       "      <td>7.991000</td>\n",
       "      <td>0.000000</td>\n",
       "      <td>0.000000</td>\n",
       "      <td>0.000000</td>\n",
       "    </tr>\n",
       "    <tr>\n",
       "      <th>50%</th>\n",
       "      <td>4.828000</td>\n",
       "      <td>3.046300</td>\n",
       "      <td>0.000000</td>\n",
       "      <td>0.000000</td>\n",
       "      <td>0.000000</td>\n",
       "      <td>0.000000</td>\n",
       "      <td>1.000000</td>\n",
       "      <td>37.500000</td>\n",
       "      <td>1.000000</td>\n",
       "      <td>2.000000</td>\n",
       "      <td>0.000000</td>\n",
       "      <td>0.000000</td>\n",
       "      <td>3.442000</td>\n",
       "      <td>1.187000</td>\n",
       "      <td>10.039000</td>\n",
       "      <td>2.000000</td>\n",
       "      <td>1.003000</td>\n",
       "      <td>1.130000</td>\n",
       "      <td>0.000000</td>\n",
       "      <td>0.000000</td>\n",
       "      <td>0.000000</td>\n",
       "      <td>1.243000</td>\n",
       "      <td>1.000000</td>\n",
       "      <td>0.000000</td>\n",
       "      <td>0.000000</td>\n",
       "      <td>0.000000</td>\n",
       "      <td>2.247000</td>\n",
       "      <td>0.000000</td>\n",
       "      <td>0.000000</td>\n",
       "      <td>0.000000</td>\n",
       "      <td>2.052000</td>\n",
       "      <td>0.000000</td>\n",
       "      <td>0.000000</td>\n",
       "      <td>0.000000</td>\n",
       "      <td>1.000000</td>\n",
       "      <td>3.726000</td>\n",
       "      <td>2.458000</td>\n",
       "      <td>0.000000</td>\n",
       "      <td>8.499000</td>\n",
       "      <td>0.000000</td>\n",
       "      <td>0.000000</td>\n",
       "      <td>0.000000</td>\n",
       "    </tr>\n",
       "    <tr>\n",
       "      <th>75%</th>\n",
       "      <td>5.125000</td>\n",
       "      <td>3.437650</td>\n",
       "      <td>1.000000</td>\n",
       "      <td>0.000000</td>\n",
       "      <td>1.000000</td>\n",
       "      <td>0.000000</td>\n",
       "      <td>3.000000</td>\n",
       "      <td>43.400000</td>\n",
       "      <td>2.000000</td>\n",
       "      <td>3.000000</td>\n",
       "      <td>2.000000</td>\n",
       "      <td>0.000000</td>\n",
       "      <td>3.825500</td>\n",
       "      <td>1.705000</td>\n",
       "      <td>10.514500</td>\n",
       "      <td>6.000000</td>\n",
       "      <td>1.029000</td>\n",
       "      <td>1.143000</td>\n",
       "      <td>0.000000</td>\n",
       "      <td>0.000000</td>\n",
       "      <td>0.000000</td>\n",
       "      <td>1.296000</td>\n",
       "      <td>2.000000</td>\n",
       "      <td>0.000000</td>\n",
       "      <td>0.000000</td>\n",
       "      <td>0.000000</td>\n",
       "      <td>2.358000</td>\n",
       "      <td>0.005000</td>\n",
       "      <td>0.000000</td>\n",
       "      <td>12.465000</td>\n",
       "      <td>3.146000</td>\n",
       "      <td>0.000000</td>\n",
       "      <td>1.000000</td>\n",
       "      <td>2.000000</td>\n",
       "      <td>2.000000</td>\n",
       "      <td>3.987000</td>\n",
       "      <td>2.870500</td>\n",
       "      <td>1.000000</td>\n",
       "      <td>9.020500</td>\n",
       "      <td>0.000000</td>\n",
       "      <td>0.000000</td>\n",
       "      <td>1.000000</td>\n",
       "    </tr>\n",
       "    <tr>\n",
       "      <th>max</th>\n",
       "      <td>6.496000</td>\n",
       "      <td>9.177500</td>\n",
       "      <td>12.000000</td>\n",
       "      <td>3.000000</td>\n",
       "      <td>36.000000</td>\n",
       "      <td>13.000000</td>\n",
       "      <td>18.000000</td>\n",
       "      <td>60.700000</td>\n",
       "      <td>24.000000</td>\n",
       "      <td>12.000000</td>\n",
       "      <td>44.000000</td>\n",
       "      <td>4.722000</td>\n",
       "      <td>5.701000</td>\n",
       "      <td>4.491000</td>\n",
       "      <td>12.609000</td>\n",
       "      <td>40.000000</td>\n",
       "      <td>1.311000</td>\n",
       "      <td>1.377000</td>\n",
       "      <td>2.000000</td>\n",
       "      <td>3.000000</td>\n",
       "      <td>3.000000</td>\n",
       "      <td>1.641000</td>\n",
       "      <td>147.000000</td>\n",
       "      <td>1.000000</td>\n",
       "      <td>1.000000</td>\n",
       "      <td>3.000000</td>\n",
       "      <td>2.859000</td>\n",
       "      <td>1.073000</td>\n",
       "      <td>1.000000</td>\n",
       "      <td>71.167000</td>\n",
       "      <td>17.537000</td>\n",
       "      <td>8.000000</td>\n",
       "      <td>12.000000</td>\n",
       "      <td>18.000000</td>\n",
       "      <td>7.000000</td>\n",
       "      <td>10.695000</td>\n",
       "      <td>5.825000</td>\n",
       "      <td>8.000000</td>\n",
       "      <td>14.700000</td>\n",
       "      <td>4.000000</td>\n",
       "      <td>27.000000</td>\n",
       "      <td>1.000000</td>\n",
       "    </tr>\n",
       "  </tbody>\n",
       "</table>\n",
       "</div>"
      ],
      "text/plain": [
       "           SpMax_L      J_Dz(e)          nHM     F01[N-N]     F04[C-N]  \\\n",
       "count  1055.000000  1055.000000  1055.000000  1055.000000  1055.000000   \n",
       "mean      4.782644     3.069508     0.716588     0.042654     0.980095   \n",
       "std       0.546916     0.831308     1.462452     0.256010     2.332955   \n",
       "min       2.000000     0.803900     0.000000     0.000000     0.000000   \n",
       "25%       4.481000     2.502750     0.000000     0.000000     0.000000   \n",
       "50%       4.828000     3.046300     0.000000     0.000000     0.000000   \n",
       "75%       5.125000     3.437650     1.000000     0.000000     1.000000   \n",
       "max       6.496000     9.177500    12.000000     3.000000    36.000000   \n",
       "\n",
       "            NssssC         nCb-           C%          nCp           nO  \\\n",
       "count  1055.000000  1055.000000  1055.000000  1055.000000  1055.000000   \n",
       "mean      0.290047     1.646445    37.055640     1.376303     1.803791   \n",
       "std       1.073771     2.224822     9.144466     1.963521     1.775435   \n",
       "min       0.000000     0.000000     0.000000     0.000000     0.000000   \n",
       "25%       0.000000     0.000000    30.450000     0.000000     0.000000   \n",
       "50%       0.000000     1.000000    37.500000     1.000000     2.000000   \n",
       "75%       0.000000     3.000000    43.400000     2.000000     3.000000   \n",
       "max      13.000000    18.000000    60.700000    24.000000    12.000000   \n",
       "\n",
       "          F03[C-N]        SdssC    HyWi_B(m)          LOC        SM6_L  \\\n",
       "count  1055.000000  1055.000000  1055.000000  1055.000000  1055.000000   \n",
       "mean      1.436967    -0.197129     3.476844     1.350716     9.937381   \n",
       "std       3.116577     0.769662     0.584150     0.786166     0.928678   \n",
       "min       0.000000    -5.256000     1.544000     0.000000     4.174000   \n",
       "25%       0.000000    -0.191000     3.105000     0.875000     9.533000   \n",
       "50%       0.000000     0.000000     3.442000     1.187000    10.039000   \n",
       "75%       2.000000     0.000000     3.825500     1.705000    10.514500   \n",
       "max      44.000000     4.722000     5.701000     4.491000    12.609000   \n",
       "\n",
       "          F03[C-O]           Me           Mi         nN-N       nArNO2  \\\n",
       "count  1055.000000  1055.000000  1055.000000  1055.000000  1055.000000   \n",
       "mean      3.630332     1.013302     1.131106     0.008531     0.073934   \n",
       "std       4.457243     0.046494     0.030143     0.101802     0.317475   \n",
       "min       0.000000     0.957000     1.022000     0.000000     0.000000   \n",
       "25%       0.000000     0.983000     1.116000     0.000000     0.000000   \n",
       "50%       2.000000     1.003000     1.130000     0.000000     0.000000   \n",
       "75%       6.000000     1.029000     1.143000     0.000000     0.000000   \n",
       "max      40.000000     1.311000     1.377000     2.000000     3.000000   \n",
       "\n",
       "             nCRX3  SpPosA_B(p)         nCIR    B01[C-Br]    B03[C-Cl]  \\\n",
       "count  1055.000000  1055.000000  1055.000000  1055.000000  1055.000000   \n",
       "mean      0.029384     1.238727     1.405687     0.039810     0.147867   \n",
       "std       0.217997     0.096466     4.788542     0.195606     0.355137   \n",
       "min       0.000000     0.863000     0.000000     0.000000     0.000000   \n",
       "25%       0.000000     1.182000     0.000000     0.000000     0.000000   \n",
       "50%       0.000000     1.243000     1.000000     0.000000     0.000000   \n",
       "75%       0.000000     1.296000     2.000000     0.000000     0.000000   \n",
       "max       3.000000     1.641000   147.000000     1.000000     1.000000   \n",
       "\n",
       "             N-073      SpMax_A     Psi_i_1d    B04[C-Br]          SdO  \\\n",
       "count  1055.000000  1055.000000  1055.000000  1055.000000  1055.000000   \n",
       "mean      0.031280     2.215641    -0.001206     0.026540     8.780510   \n",
       "std       0.199544     0.226131     0.158928     0.160812    11.895889   \n",
       "min       0.000000     1.000000    -1.099000     0.000000     0.000000   \n",
       "25%       0.000000     2.101000    -0.008000     0.000000     0.000000   \n",
       "50%       0.000000     2.247000     0.000000     0.000000     0.000000   \n",
       "75%       0.000000     2.358000     0.005000     0.000000    12.465000   \n",
       "max       3.000000     2.859000     1.073000     1.000000    71.167000   \n",
       "\n",
       "             TI2_L         nCrt        C-026     F02[C-N]        nHDon  \\\n",
       "count  1055.000000  1055.000000  1055.000000  1055.000000  1055.000000   \n",
       "mean      2.668344     0.129858     0.883412     1.274882     0.961137   \n",
       "std       2.096607     0.644057     1.520467     2.273994     1.257013   \n",
       "min       0.444000     0.000000     0.000000     0.000000     0.000000   \n",
       "25%       1.446500     0.000000     0.000000     0.000000     0.000000   \n",
       "50%       2.052000     0.000000     0.000000     0.000000     1.000000   \n",
       "75%       3.146000     0.000000     1.000000     2.000000     2.000000   \n",
       "max      17.537000     8.000000    12.000000    18.000000     7.000000   \n",
       "\n",
       "        SpMax_B(m)      Psi_i_A           nN     SM6_B(m)      nArCOOR  \\\n",
       "count  1055.000000  1055.000000  1055.000000  1055.000000  1055.000000   \n",
       "mean      3.918240     2.558417     0.686256     8.629492     0.051185   \n",
       "std       0.999602     0.642765     1.090389     1.241986     0.318970   \n",
       "min       2.267000     1.467000     0.000000     4.917000     0.000000   \n",
       "25%       3.487500     2.103000     0.000000     7.991000     0.000000   \n",
       "50%       3.726000     2.458000     0.000000     8.499000     0.000000   \n",
       "75%       3.987000     2.870500     1.000000     9.020500     0.000000   \n",
       "max      10.695000     5.825000     8.000000    14.700000     4.000000   \n",
       "\n",
       "                nX  ready_degradable  \n",
       "count  1055.000000       1055.000000  \n",
       "mean      0.723223          0.337441  \n",
       "std       2.239286          0.473061  \n",
       "min       0.000000          0.000000  \n",
       "25%       0.000000          0.000000  \n",
       "50%       0.000000          0.000000  \n",
       "75%       0.000000          1.000000  \n",
       "max      27.000000          1.000000  "
      ]
     },
     "execution_count": 10,
     "metadata": {},
     "output_type": "execute_result"
    }
   ],
   "source": [
    "biodeg.describe()"
   ]
  },
  {
   "cell_type": "markdown",
   "metadata": {},
   "source": [
    "<p style = \"font-family: Times New Roman\">The desciption of the DataFrame implies that there are a lot of zero values. Hence the number of zeros for each column will be investigated.</p>"
   ]
  },
  {
   "cell_type": "code",
   "execution_count": 11,
   "metadata": {},
   "outputs": [
    {
     "data": {
      "text/plain": [
       "Text(0.5, 0, 'Column Name')"
      ]
     },
     "execution_count": 11,
     "metadata": {},
     "output_type": "execute_result"
    },
    {
     "data": {
      "image/png": "[encoded data removed]",
      "text/plain": [
       "<Figure size 1440x576 with 1 Axes>"
      ]
     },
     "metadata": {
      "needs_background": "light"
     },
     "output_type": "display_data"
    }
   ],
   "source": [
    "#check data for zero values\n",
    "zeros = [round(sum(biodeg.iloc[:,i] == 0)/len(biodeg),3)*100 for i in range(biodeg.shape[1])]\n",
    "zero = pd.DataFrame(zeros , index = biodeg.columns).sort_values(by=0, ascending = False)\n",
    "\n",
    "#plot results\n",
    "zero.plot(kind = 'bar', legend = False, figsize =(20,8))\n",
    "plt.title('Columns with Zero Values')\n",
    "plt.ylabel('Percentage of zero values [%]')\n",
    "plt.xlabel('Column Name')"
   ]
  },
  {
   "cell_type": "markdown",
   "metadata": {},
   "source": [
    "<p style = \"font-family: Times New Roman\">While zero values in a lot of columns are quite common, it does not provide any evidence of missing data. Since the actual molecule names or structures are not provided, zero values will be kept.</p>"
   ]
  },
  {
   "cell_type": "markdown",
   "metadata": {},
   "source": [
    "<p style = \"font-family: Times New Roman\">Class inbalance will lead to a bias towards the majority class, if the imbalance is too high. Therefore the distribution of our target class will also be investigate.</p>"
   ]
  },
  {
   "cell_type": "code",
   "execution_count": 12,
   "metadata": {},
   "outputs": [
    {
     "data": {
      "text/plain": [
       "0    0.662559\n",
       "1    0.337441\n",
       "Name: ready_degradable, dtype: float64"
      ]
     },
     "execution_count": 12,
     "metadata": {},
     "output_type": "execute_result"
    }
   ],
   "source": [
    "biodeg[\"ready_degradable\"].value_counts(normalize = True)"
   ]
  },
  {
   "cell_type": "markdown",
   "metadata": {},
   "source": [
    "<p style = \"font-family: Times New Roman\">We can see almost 2/3 of them are non-ready degradable while the rest of 1/3 of them are ready degradable. This implies that the class is actually not perfectly balance. But we consider this imbalance is not too high and therefore we decided to keep the inbalance since upscaling would lead to duplicates and downscaling to a loss of data.</p>"
   ]
  },
  {
   "cell_type": "markdown",
   "metadata": {},
   "source": [
    "## 4) Features Scaling\n",
    "<p style = \"font-family: Times New Roman\">We will perform standardization to avoid bias of a certain feature when we test different of models especially distance-based classifiers such as KNN, Perceptron, Logistic regression and SVM.</p>"
   ]
  },
  {
   "cell_type": "code",
   "execution_count": 13,
   "metadata": {},
   "outputs": [
    {
     "data": {
      "text/html": [
       "<div>\n",
       "<style scoped>\n",
       "    .dataframe tbody tr th:only-of-type {\n",
       "        vertical-align: middle;\n",
       "    }\n",
       "\n",
       "    .dataframe tbody tr th {\n",
       "        vertical-align: top;\n",
       "    }\n",
       "\n",
       "    .dataframe thead th {\n",
       "        text-align: right;\n",
       "    }\n",
       "</style>\n",
       "<table border=\"1\" class=\"dataframe\">\n",
       "  <thead>\n",
       "    <tr style=\"text-align: right;\">\n",
       "      <th></th>\n",
       "      <th>SpMax_L</th>\n",
       "      <th>J_Dz(e)</th>\n",
       "      <th>nHM</th>\n",
       "      <th>F01[N-N]</th>\n",
       "      <th>F04[C-N]</th>\n",
       "      <th>NssssC</th>\n",
       "      <th>nCb-</th>\n",
       "      <th>C%</th>\n",
       "      <th>nCp</th>\n",
       "      <th>nO</th>\n",
       "      <th>F03[C-N]</th>\n",
       "      <th>SdssC</th>\n",
       "      <th>HyWi_B(m)</th>\n",
       "      <th>LOC</th>\n",
       "      <th>SM6_L</th>\n",
       "      <th>F03[C-O]</th>\n",
       "      <th>Me</th>\n",
       "      <th>Mi</th>\n",
       "      <th>nN-N</th>\n",
       "      <th>nArNO2</th>\n",
       "      <th>nCRX3</th>\n",
       "      <th>SpPosA_B(p)</th>\n",
       "      <th>nCIR</th>\n",
       "      <th>B01[C-Br]</th>\n",
       "      <th>B03[C-Cl]</th>\n",
       "      <th>N-073</th>\n",
       "      <th>SpMax_A</th>\n",
       "      <th>Psi_i_1d</th>\n",
       "      <th>B04[C-Br]</th>\n",
       "      <th>SdO</th>\n",
       "      <th>TI2_L</th>\n",
       "      <th>nCrt</th>\n",
       "      <th>C-026</th>\n",
       "      <th>F02[C-N]</th>\n",
       "      <th>nHDon</th>\n",
       "      <th>SpMax_B(m)</th>\n",
       "      <th>Psi_i_A</th>\n",
       "      <th>nN</th>\n",
       "      <th>SM6_B(m)</th>\n",
       "      <th>nArCOOR</th>\n",
       "      <th>nX</th>\n",
       "    </tr>\n",
       "  </thead>\n",
       "  <tbody>\n",
       "    <tr>\n",
       "      <th>0</th>\n",
       "      <td>-1.579865</td>\n",
       "      <td>-0.455652</td>\n",
       "      <td>-0.490223</td>\n",
       "      <td>-0.16669</td>\n",
       "      <td>-0.420308</td>\n",
       "      <td>-0.270248</td>\n",
       "      <td>-0.740386</td>\n",
       "      <td>-0.618770</td>\n",
       "      <td>0.317793</td>\n",
       "      <td>-1.016454</td>\n",
       "      <td>-0.461291</td>\n",
       "      <td>0.256245</td>\n",
       "      <td>-0.635144</td>\n",
       "      <td>1.526208</td>\n",
       "      <td>-1.007696</td>\n",
       "      <td>-0.814866</td>\n",
       "      <td>-1.146971</td>\n",
       "      <td>0.361577</td>\n",
       "      <td>-0.083838</td>\n",
       "      <td>-0.232991</td>\n",
       "      <td>-0.134854</td>\n",
       "      <td>-0.391278</td>\n",
       "      <td>-0.293691</td>\n",
       "      <td>-0.20362</td>\n",
       "      <td>-0.416565</td>\n",
       "      <td>-0.15683</td>\n",
       "      <td>-1.254914</td>\n",
       "      <td>0.076836</td>\n",
       "      <td>-0.165118</td>\n",
       "      <td>-0.738463</td>\n",
       "      <td>0.868794</td>\n",
       "      <td>-0.20172</td>\n",
       "      <td>-0.581289</td>\n",
       "      <td>-0.560901</td>\n",
       "      <td>-0.764983</td>\n",
       "      <td>-0.970085</td>\n",
       "      <td>-1.505801</td>\n",
       "      <td>-0.629667</td>\n",
       "      <td>-1.108824</td>\n",
       "      <td>-0.160545</td>\n",
       "      <td>-0.323123</td>\n",
       "    </tr>\n",
       "    <tr>\n",
       "      <th>1</th>\n",
       "      <td>-1.120710</td>\n",
       "      <td>-1.149466</td>\n",
       "      <td>-0.490223</td>\n",
       "      <td>-0.16669</td>\n",
       "      <td>-0.420308</td>\n",
       "      <td>-0.270248</td>\n",
       "      <td>-0.740386</td>\n",
       "      <td>-0.684415</td>\n",
       "      <td>-0.191738</td>\n",
       "      <td>-0.452944</td>\n",
       "      <td>-0.461291</td>\n",
       "      <td>0.256245</td>\n",
       "      <td>-1.739836</td>\n",
       "      <td>0.053811</td>\n",
       "      <td>-1.308266</td>\n",
       "      <td>-0.590405</td>\n",
       "      <td>-0.522943</td>\n",
       "      <td>0.427959</td>\n",
       "      <td>-0.083838</td>\n",
       "      <td>-0.232991</td>\n",
       "      <td>-0.134854</td>\n",
       "      <td>-1.397294</td>\n",
       "      <td>-0.084761</td>\n",
       "      <td>-0.20362</td>\n",
       "      <td>-0.416565</td>\n",
       "      <td>-0.15683</td>\n",
       "      <td>-0.007259</td>\n",
       "      <td>-1.276615</td>\n",
       "      <td>-0.165118</td>\n",
       "      <td>-0.738463</td>\n",
       "      <td>-0.537477</td>\n",
       "      <td>-0.20172</td>\n",
       "      <td>-0.581289</td>\n",
       "      <td>-0.560901</td>\n",
       "      <td>-0.764983</td>\n",
       "      <td>-0.603766</td>\n",
       "      <td>-0.920550</td>\n",
       "      <td>-0.629667</td>\n",
       "      <td>-1.105602</td>\n",
       "      <td>-0.160545</td>\n",
       "      <td>-0.323123</td>\n",
       "    </tr>\n",
       "    <tr>\n",
       "      <th>2</th>\n",
       "      <td>-1.556084</td>\n",
       "      <td>0.218665</td>\n",
       "      <td>-0.490223</td>\n",
       "      <td>-0.16669</td>\n",
       "      <td>-0.420308</td>\n",
       "      <td>-0.270248</td>\n",
       "      <td>-0.740386</td>\n",
       "      <td>-1.132986</td>\n",
       "      <td>0.317793</td>\n",
       "      <td>1.237584</td>\n",
       "      <td>-0.461291</td>\n",
       "      <td>0.256245</td>\n",
       "      <td>-0.338847</td>\n",
       "      <td>1.570749</td>\n",
       "      <td>-0.891346</td>\n",
       "      <td>-0.814866</td>\n",
       "      <td>-0.092579</td>\n",
       "      <td>0.693487</td>\n",
       "      <td>-0.083838</td>\n",
       "      <td>-0.232991</td>\n",
       "      <td>-0.134854</td>\n",
       "      <td>-1.521749</td>\n",
       "      <td>-0.293691</td>\n",
       "      <td>-0.20362</td>\n",
       "      <td>-0.416565</td>\n",
       "      <td>-0.15683</td>\n",
       "      <td>-1.210671</td>\n",
       "      <td>-0.042771</td>\n",
       "      <td>-0.165118</td>\n",
       "      <td>-0.738463</td>\n",
       "      <td>1.060623</td>\n",
       "      <td>-0.20172</td>\n",
       "      <td>-0.581289</td>\n",
       "      <td>-0.560901</td>\n",
       "      <td>0.030931</td>\n",
       "      <td>-0.842975</td>\n",
       "      <td>-0.220118</td>\n",
       "      <td>-0.629667</td>\n",
       "      <td>-0.828495</td>\n",
       "      <td>-0.160545</td>\n",
       "      <td>-0.323123</td>\n",
       "    </tr>\n",
       "    <tr>\n",
       "      <th>3</th>\n",
       "      <td>-3.260993</td>\n",
       "      <td>-0.432906</td>\n",
       "      <td>-0.490223</td>\n",
       "      <td>-0.16669</td>\n",
       "      <td>-0.420308</td>\n",
       "      <td>-0.270248</td>\n",
       "      <td>-0.740386</td>\n",
       "      <td>-1.866017</td>\n",
       "      <td>-0.701269</td>\n",
       "      <td>0.110565</td>\n",
       "      <td>-0.461291</td>\n",
       "      <td>0.256245</td>\n",
       "      <td>-2.358121</td>\n",
       "      <td>-0.550673</td>\n",
       "      <td>-3.601860</td>\n",
       "      <td>-0.814866</td>\n",
       "      <td>2.037723</td>\n",
       "      <td>1.191352</td>\n",
       "      <td>-0.083838</td>\n",
       "      <td>-0.232991</td>\n",
       "      <td>-0.134854</td>\n",
       "      <td>-2.226997</td>\n",
       "      <td>-0.293691</td>\n",
       "      <td>-0.20362</td>\n",
       "      <td>-0.416565</td>\n",
       "      <td>-0.15683</td>\n",
       "      <td>-3.546706</td>\n",
       "      <td>6.762259</td>\n",
       "      <td>-0.165118</td>\n",
       "      <td>-0.035282</td>\n",
       "      <td>-0.637209</td>\n",
       "      <td>-0.20172</td>\n",
       "      <td>-0.581289</td>\n",
       "      <td>-0.560901</td>\n",
       "      <td>0.030931</td>\n",
       "      <td>-0.873001</td>\n",
       "      <td>3.800364</td>\n",
       "      <td>-0.629667</td>\n",
       "      <td>-1.562345</td>\n",
       "      <td>-0.160545</td>\n",
       "      <td>-0.323123</td>\n",
       "    </tr>\n",
       "    <tr>\n",
       "      <th>4</th>\n",
       "      <td>-0.999976</td>\n",
       "      <td>0.391006</td>\n",
       "      <td>-0.490223</td>\n",
       "      <td>-0.16669</td>\n",
       "      <td>-0.420308</td>\n",
       "      <td>-0.270248</td>\n",
       "      <td>-0.740386</td>\n",
       "      <td>-0.837585</td>\n",
       "      <td>0.317793</td>\n",
       "      <td>1.237584</td>\n",
       "      <td>-0.461291</td>\n",
       "      <td>-0.096024</td>\n",
       "      <td>-0.047688</td>\n",
       "      <td>1.784545</td>\n",
       "      <td>-0.441031</td>\n",
       "      <td>-0.365945</td>\n",
       "      <td>-0.200170</td>\n",
       "      <td>0.527532</td>\n",
       "      <td>-0.083838</td>\n",
       "      <td>-0.232991</td>\n",
       "      <td>-0.134854</td>\n",
       "      <td>-1.055041</td>\n",
       "      <td>-0.293691</td>\n",
       "      <td>-0.20362</td>\n",
       "      <td>-0.416565</td>\n",
       "      <td>-0.15683</td>\n",
       "      <td>-1.020426</td>\n",
       "      <td>-0.005000</td>\n",
       "      <td>-0.165118</td>\n",
       "      <td>0.131830</td>\n",
       "      <td>1.393223</td>\n",
       "      <td>-0.20172</td>\n",
       "      <td>-0.581289</td>\n",
       "      <td>-0.560901</td>\n",
       "      <td>-0.764983</td>\n",
       "      <td>-0.567735</td>\n",
       "      <td>-0.238796</td>\n",
       "      <td>-0.629667</td>\n",
       "      <td>-0.504667</td>\n",
       "      <td>-0.160545</td>\n",
       "      <td>-0.323123</td>\n",
       "    </tr>\n",
       "  </tbody>\n",
       "</table>\n",
       "</div>"
      ],
      "text/plain": [
       "    SpMax_L   J_Dz(e)       nHM  F01[N-N]  F04[C-N]    NssssC      nCb-  \\\n",
       "0 -1.579865 -0.455652 -0.490223  -0.16669 -0.420308 -0.270248 -0.740386   \n",
       "1 -1.120710 -1.149466 -0.490223  -0.16669 -0.420308 -0.270248 -0.740386   \n",
       "2 -1.556084  0.218665 -0.490223  -0.16669 -0.420308 -0.270248 -0.740386   \n",
       "3 -3.260993 -0.432906 -0.490223  -0.16669 -0.420308 -0.270248 -0.740386   \n",
       "4 -0.999976  0.391006 -0.490223  -0.16669 -0.420308 -0.270248 -0.740386   \n",
       "\n",
       "         C%       nCp        nO  F03[C-N]     SdssC  HyWi_B(m)       LOC  \\\n",
       "0 -0.618770  0.317793 -1.016454 -0.461291  0.256245  -0.635144  1.526208   \n",
       "1 -0.684415 -0.191738 -0.452944 -0.461291  0.256245  -1.739836  0.053811   \n",
       "2 -1.132986  0.317793  1.237584 -0.461291  0.256245  -0.338847  1.570749   \n",
       "3 -1.866017 -0.701269  0.110565 -0.461291  0.256245  -2.358121 -0.550673   \n",
       "4 -0.837585  0.317793  1.237584 -0.461291 -0.096024  -0.047688  1.784545   \n",
       "\n",
       "      SM6_L  F03[C-O]        Me        Mi      nN-N    nArNO2     nCRX3  \\\n",
       "0 -1.007696 -0.814866 -1.146971  0.361577 -0.083838 -0.232991 -0.134854   \n",
       "1 -1.308266 -0.590405 -0.522943  0.427959 -0.083838 -0.232991 -0.134854   \n",
       "2 -0.891346 -0.814866 -0.092579  0.693487 -0.083838 -0.232991 -0.134854   \n",
       "3 -3.601860 -0.814866  2.037723  1.191352 -0.083838 -0.232991 -0.134854   \n",
       "4 -0.441031 -0.365945 -0.200170  0.527532 -0.083838 -0.232991 -0.134854   \n",
       "\n",
       "   SpPosA_B(p)      nCIR  B01[C-Br]  B03[C-Cl]    N-073   SpMax_A  Psi_i_1d  \\\n",
       "0    -0.391278 -0.293691   -0.20362  -0.416565 -0.15683 -1.254914  0.076836   \n",
       "1    -1.397294 -0.084761   -0.20362  -0.416565 -0.15683 -0.007259 -1.276615   \n",
       "2    -1.521749 -0.293691   -0.20362  -0.416565 -0.15683 -1.210671 -0.042771   \n",
       "3    -2.226997 -0.293691   -0.20362  -0.416565 -0.15683 -3.546706  6.762259   \n",
       "4    -1.055041 -0.293691   -0.20362  -0.416565 -0.15683 -1.020426 -0.005000   \n",
       "\n",
       "   B04[C-Br]       SdO     TI2_L     nCrt     C-026  F02[C-N]     nHDon  \\\n",
       "0  -0.165118 -0.738463  0.868794 -0.20172 -0.581289 -0.560901 -0.764983   \n",
       "1  -0.165118 -0.738463 -0.537477 -0.20172 -0.581289 -0.560901 -0.764983   \n",
       "2  -0.165118 -0.738463  1.060623 -0.20172 -0.581289 -0.560901  0.030931   \n",
       "3  -0.165118 -0.035282 -0.637209 -0.20172 -0.581289 -0.560901  0.030931   \n",
       "4  -0.165118  0.131830  1.393223 -0.20172 -0.581289 -0.560901 -0.764983   \n",
       "\n",
       "   SpMax_B(m)   Psi_i_A        nN  SM6_B(m)   nArCOOR        nX  \n",
       "0   -0.970085 -1.505801 -0.629667 -1.108824 -0.160545 -0.323123  \n",
       "1   -0.603766 -0.920550 -0.629667 -1.105602 -0.160545 -0.323123  \n",
       "2   -0.842975 -0.220118 -0.629667 -0.828495 -0.160545 -0.323123  \n",
       "3   -0.873001  3.800364 -0.629667 -1.562345 -0.160545 -0.323123  \n",
       "4   -0.567735 -0.238796 -0.629667 -0.504667 -0.160545 -0.323123  "
      ]
     },
     "execution_count": 13,
     "metadata": {},
     "output_type": "execute_result"
    }
   ],
   "source": [
    "from sklearn.preprocessing import StandardScaler\n",
    "y = biodeg['ready_degradable']\n",
    "X_features = biodeg.drop(columns='ready_degradable')\n",
    "scaler = StandardScaler()\n",
    "X_transform = scaler.fit_transform(X_features)\n",
    "X_transform_pd = pd.DataFrame(X_transform, columns = X_features.columns)\n",
    "X_transform_pd.head()"
   ]
  },
  {
   "cell_type": "markdown",
   "metadata": {},
   "source": [
    "## 5) Features Selection\n",
    "<span style = \"font-family: Times New Roman\">\n",
    "    <div style = \"text-align: justify\">Since wrapper method is more proned to overfitting and it requires more computation time than the filter method, and we have 41 features which is quite a lot of them, so we decide to use the filter method which is SelectKBest to choose our best k number of features. Moreover, feature selection was meant to reduce the computational time. If we choose the longer computational time of wrapper method, then feature selection will lose its purpose. Regarding the value of k, if we select a value that is too high, then the reduction of computational time is negligible. But if we select a value that is too low, then it will affect the accuracy of the model to predict our target class. We assumes that taking 75% of the original number of features provided by the dataset as our k value is the optimal value for the SelectKBest filter method. Therefore, we will choose about 75% of all the features which is roughly equals to 30 features. Since all of the features are numerical and the target class is categorical, ANOVA is chosen to compute the ANOVA F-value for the provided sample. In scikit-learn, the method is called f_classif instead of ANOVA.</div>\n",
    "</span>"
   ]
  },
  {
   "cell_type": "code",
   "execution_count": 14,
   "metadata": {},
   "outputs": [
    {
     "data": {
      "text/plain": [
       "(1055, 30)"
      ]
     },
     "execution_count": 14,
     "metadata": {},
     "output_type": "execute_result"
    }
   ],
   "source": [
    "from sklearn.feature_selection import SelectKBest, f_classif\n",
    "kBest = SelectKBest(f_classif, k = 30)\n",
    "X_kBestFeatures = kBest.fit_transform(X_transform, y)\n",
    "X_kBestFeatures.shape"
   ]
  },
  {
   "cell_type": "markdown",
   "metadata": {},
   "source": [
    "<p style = \"font-family: Times New Roman\">Just for curiosity reason, we would like to see what features have actually selected in terms of their index position and also their name.</p>"
   ]
  },
  {
   "cell_type": "code",
   "execution_count": 15,
   "metadata": {},
   "outputs": [
    {
     "data": {
      "text/plain": [
       "array([ 0,  2,  3,  4,  5,  6,  7,  9, 10, 11, 12, 13, 14, 17, 19, 21, 22,\n",
       "       23, 24, 26, 30, 31, 32, 33, 35, 36, 37, 38, 39, 40], dtype=int64)"
      ]
     },
     "execution_count": 15,
     "metadata": {},
     "output_type": "execute_result"
    }
   ],
   "source": [
    "kBest.get_support(True)"
   ]
  },
  {
   "cell_type": "code",
   "execution_count": 16,
   "metadata": {},
   "outputs": [
    {
     "data": {
      "text/plain": [
       "Index(['SpMax_L', 'nHM', 'F01[N-N]', 'F04[C-N]', 'NssssC', 'nCb-', 'C%', 'nO',\n",
       "       'F03[C-N]', 'SdssC', 'HyWi_B(m)', 'LOC', 'SM6_L', 'Mi', 'nArNO2',\n",
       "       'SpPosA_B(p)', 'nCIR', 'B01[C-Br]', 'B03[C-Cl]', 'SpMax_A', 'TI2_L',\n",
       "       'nCrt', 'C-026', 'F02[C-N]', 'SpMax_B(m)', 'Psi_i_A', 'nN', 'SM6_B(m)',\n",
       "       'nArCOOR', 'nX'],\n",
       "      dtype='object')"
      ]
     },
     "execution_count": 16,
     "metadata": {},
     "output_type": "execute_result"
    }
   ],
   "source": [
    "X_kBestFeatures = X_transform_pd.iloc[:, kBest.get_support(True)]\n",
    "X_kBestFeatures.columns"
   ]
  },
  {
   "cell_type": "code",
   "execution_count": 17,
   "metadata": {},
   "outputs": [
    {
     "data": {
      "text/html": [
       "<div>\n",
       "<style scoped>\n",
       "    .dataframe tbody tr th:only-of-type {\n",
       "        vertical-align: middle;\n",
       "    }\n",
       "\n",
       "    .dataframe tbody tr th {\n",
       "        vertical-align: top;\n",
       "    }\n",
       "\n",
       "    .dataframe thead th {\n",
       "        text-align: right;\n",
       "    }\n",
       "</style>\n",
       "<table border=\"1\" class=\"dataframe\">\n",
       "  <thead>\n",
       "    <tr style=\"text-align: right;\">\n",
       "      <th></th>\n",
       "      <th>SpMax_L</th>\n",
       "      <th>nHM</th>\n",
       "      <th>F01[N-N]</th>\n",
       "      <th>F04[C-N]</th>\n",
       "      <th>NssssC</th>\n",
       "      <th>nCb-</th>\n",
       "      <th>C%</th>\n",
       "      <th>nO</th>\n",
       "      <th>F03[C-N]</th>\n",
       "      <th>SdssC</th>\n",
       "      <th>HyWi_B(m)</th>\n",
       "      <th>LOC</th>\n",
       "      <th>SM6_L</th>\n",
       "      <th>Mi</th>\n",
       "      <th>nArNO2</th>\n",
       "      <th>SpPosA_B(p)</th>\n",
       "      <th>nCIR</th>\n",
       "      <th>B01[C-Br]</th>\n",
       "      <th>B03[C-Cl]</th>\n",
       "      <th>SpMax_A</th>\n",
       "      <th>TI2_L</th>\n",
       "      <th>nCrt</th>\n",
       "      <th>C-026</th>\n",
       "      <th>F02[C-N]</th>\n",
       "      <th>SpMax_B(m)</th>\n",
       "      <th>Psi_i_A</th>\n",
       "      <th>nN</th>\n",
       "      <th>SM6_B(m)</th>\n",
       "      <th>nArCOOR</th>\n",
       "      <th>nX</th>\n",
       "    </tr>\n",
       "  </thead>\n",
       "  <tbody>\n",
       "    <tr>\n",
       "      <th>0</th>\n",
       "      <td>-1.579865</td>\n",
       "      <td>-0.490223</td>\n",
       "      <td>-0.16669</td>\n",
       "      <td>-0.420308</td>\n",
       "      <td>-0.270248</td>\n",
       "      <td>-0.740386</td>\n",
       "      <td>-0.618770</td>\n",
       "      <td>-1.016454</td>\n",
       "      <td>-0.461291</td>\n",
       "      <td>0.256245</td>\n",
       "      <td>-0.635144</td>\n",
       "      <td>1.526208</td>\n",
       "      <td>-1.007696</td>\n",
       "      <td>0.361577</td>\n",
       "      <td>-0.232991</td>\n",
       "      <td>-0.391278</td>\n",
       "      <td>-0.293691</td>\n",
       "      <td>-0.20362</td>\n",
       "      <td>-0.416565</td>\n",
       "      <td>-1.254914</td>\n",
       "      <td>0.868794</td>\n",
       "      <td>-0.20172</td>\n",
       "      <td>-0.581289</td>\n",
       "      <td>-0.560901</td>\n",
       "      <td>-0.970085</td>\n",
       "      <td>-1.505801</td>\n",
       "      <td>-0.629667</td>\n",
       "      <td>-1.108824</td>\n",
       "      <td>-0.160545</td>\n",
       "      <td>-0.323123</td>\n",
       "    </tr>\n",
       "    <tr>\n",
       "      <th>1</th>\n",
       "      <td>-1.120710</td>\n",
       "      <td>-0.490223</td>\n",
       "      <td>-0.16669</td>\n",
       "      <td>-0.420308</td>\n",
       "      <td>-0.270248</td>\n",
       "      <td>-0.740386</td>\n",
       "      <td>-0.684415</td>\n",
       "      <td>-0.452944</td>\n",
       "      <td>-0.461291</td>\n",
       "      <td>0.256245</td>\n",
       "      <td>-1.739836</td>\n",
       "      <td>0.053811</td>\n",
       "      <td>-1.308266</td>\n",
       "      <td>0.427959</td>\n",
       "      <td>-0.232991</td>\n",
       "      <td>-1.397294</td>\n",
       "      <td>-0.084761</td>\n",
       "      <td>-0.20362</td>\n",
       "      <td>-0.416565</td>\n",
       "      <td>-0.007259</td>\n",
       "      <td>-0.537477</td>\n",
       "      <td>-0.20172</td>\n",
       "      <td>-0.581289</td>\n",
       "      <td>-0.560901</td>\n",
       "      <td>-0.603766</td>\n",
       "      <td>-0.920550</td>\n",
       "      <td>-0.629667</td>\n",
       "      <td>-1.105602</td>\n",
       "      <td>-0.160545</td>\n",
       "      <td>-0.323123</td>\n",
       "    </tr>\n",
       "    <tr>\n",
       "      <th>2</th>\n",
       "      <td>-1.556084</td>\n",
       "      <td>-0.490223</td>\n",
       "      <td>-0.16669</td>\n",
       "      <td>-0.420308</td>\n",
       "      <td>-0.270248</td>\n",
       "      <td>-0.740386</td>\n",
       "      <td>-1.132986</td>\n",
       "      <td>1.237584</td>\n",
       "      <td>-0.461291</td>\n",
       "      <td>0.256245</td>\n",
       "      <td>-0.338847</td>\n",
       "      <td>1.570749</td>\n",
       "      <td>-0.891346</td>\n",
       "      <td>0.693487</td>\n",
       "      <td>-0.232991</td>\n",
       "      <td>-1.521749</td>\n",
       "      <td>-0.293691</td>\n",
       "      <td>-0.20362</td>\n",
       "      <td>-0.416565</td>\n",
       "      <td>-1.210671</td>\n",
       "      <td>1.060623</td>\n",
       "      <td>-0.20172</td>\n",
       "      <td>-0.581289</td>\n",
       "      <td>-0.560901</td>\n",
       "      <td>-0.842975</td>\n",
       "      <td>-0.220118</td>\n",
       "      <td>-0.629667</td>\n",
       "      <td>-0.828495</td>\n",
       "      <td>-0.160545</td>\n",
       "      <td>-0.323123</td>\n",
       "    </tr>\n",
       "    <tr>\n",
       "      <th>3</th>\n",
       "      <td>-3.260993</td>\n",
       "      <td>-0.490223</td>\n",
       "      <td>-0.16669</td>\n",
       "      <td>-0.420308</td>\n",
       "      <td>-0.270248</td>\n",
       "      <td>-0.740386</td>\n",
       "      <td>-1.866017</td>\n",
       "      <td>0.110565</td>\n",
       "      <td>-0.461291</td>\n",
       "      <td>0.256245</td>\n",
       "      <td>-2.358121</td>\n",
       "      <td>-0.550673</td>\n",
       "      <td>-3.601860</td>\n",
       "      <td>1.191352</td>\n",
       "      <td>-0.232991</td>\n",
       "      <td>-2.226997</td>\n",
       "      <td>-0.293691</td>\n",
       "      <td>-0.20362</td>\n",
       "      <td>-0.416565</td>\n",
       "      <td>-3.546706</td>\n",
       "      <td>-0.637209</td>\n",
       "      <td>-0.20172</td>\n",
       "      <td>-0.581289</td>\n",
       "      <td>-0.560901</td>\n",
       "      <td>-0.873001</td>\n",
       "      <td>3.800364</td>\n",
       "      <td>-0.629667</td>\n",
       "      <td>-1.562345</td>\n",
       "      <td>-0.160545</td>\n",
       "      <td>-0.323123</td>\n",
       "    </tr>\n",
       "    <tr>\n",
       "      <th>4</th>\n",
       "      <td>-0.999976</td>\n",
       "      <td>-0.490223</td>\n",
       "      <td>-0.16669</td>\n",
       "      <td>-0.420308</td>\n",
       "      <td>-0.270248</td>\n",
       "      <td>-0.740386</td>\n",
       "      <td>-0.837585</td>\n",
       "      <td>1.237584</td>\n",
       "      <td>-0.461291</td>\n",
       "      <td>-0.096024</td>\n",
       "      <td>-0.047688</td>\n",
       "      <td>1.784545</td>\n",
       "      <td>-0.441031</td>\n",
       "      <td>0.527532</td>\n",
       "      <td>-0.232991</td>\n",
       "      <td>-1.055041</td>\n",
       "      <td>-0.293691</td>\n",
       "      <td>-0.20362</td>\n",
       "      <td>-0.416565</td>\n",
       "      <td>-1.020426</td>\n",
       "      <td>1.393223</td>\n",
       "      <td>-0.20172</td>\n",
       "      <td>-0.581289</td>\n",
       "      <td>-0.560901</td>\n",
       "      <td>-0.567735</td>\n",
       "      <td>-0.238796</td>\n",
       "      <td>-0.629667</td>\n",
       "      <td>-0.504667</td>\n",
       "      <td>-0.160545</td>\n",
       "      <td>-0.323123</td>\n",
       "    </tr>\n",
       "  </tbody>\n",
       "</table>\n",
       "</div>"
      ],
      "text/plain": [
       "    SpMax_L       nHM  F01[N-N]  F04[C-N]    NssssC      nCb-        C%  \\\n",
       "0 -1.579865 -0.490223  -0.16669 -0.420308 -0.270248 -0.740386 -0.618770   \n",
       "1 -1.120710 -0.490223  -0.16669 -0.420308 -0.270248 -0.740386 -0.684415   \n",
       "2 -1.556084 -0.490223  -0.16669 -0.420308 -0.270248 -0.740386 -1.132986   \n",
       "3 -3.260993 -0.490223  -0.16669 -0.420308 -0.270248 -0.740386 -1.866017   \n",
       "4 -0.999976 -0.490223  -0.16669 -0.420308 -0.270248 -0.740386 -0.837585   \n",
       "\n",
       "         nO  F03[C-N]     SdssC  HyWi_B(m)       LOC     SM6_L        Mi  \\\n",
       "0 -1.016454 -0.461291  0.256245  -0.635144  1.526208 -1.007696  0.361577   \n",
       "1 -0.452944 -0.461291  0.256245  -1.739836  0.053811 -1.308266  0.427959   \n",
       "2  1.237584 -0.461291  0.256245  -0.338847  1.570749 -0.891346  0.693487   \n",
       "3  0.110565 -0.461291  0.256245  -2.358121 -0.550673 -3.601860  1.191352   \n",
       "4  1.237584 -0.461291 -0.096024  -0.047688  1.784545 -0.441031  0.527532   \n",
       "\n",
       "     nArNO2  SpPosA_B(p)      nCIR  B01[C-Br]  B03[C-Cl]   SpMax_A     TI2_L  \\\n",
       "0 -0.232991    -0.391278 -0.293691   -0.20362  -0.416565 -1.254914  0.868794   \n",
       "1 -0.232991    -1.397294 -0.084761   -0.20362  -0.416565 -0.007259 -0.537477   \n",
       "2 -0.232991    -1.521749 -0.293691   -0.20362  -0.416565 -1.210671  1.060623   \n",
       "3 -0.232991    -2.226997 -0.293691   -0.20362  -0.416565 -3.546706 -0.637209   \n",
       "4 -0.232991    -1.055041 -0.293691   -0.20362  -0.416565 -1.020426  1.393223   \n",
       "\n",
       "      nCrt     C-026  F02[C-N]  SpMax_B(m)   Psi_i_A        nN  SM6_B(m)  \\\n",
       "0 -0.20172 -0.581289 -0.560901   -0.970085 -1.505801 -0.629667 -1.108824   \n",
       "1 -0.20172 -0.581289 -0.560901   -0.603766 -0.920550 -0.629667 -1.105602   \n",
       "2 -0.20172 -0.581289 -0.560901   -0.842975 -0.220118 -0.629667 -0.828495   \n",
       "3 -0.20172 -0.581289 -0.560901   -0.873001  3.800364 -0.629667 -1.562345   \n",
       "4 -0.20172 -0.581289 -0.560901   -0.567735 -0.238796 -0.629667 -0.504667   \n",
       "\n",
       "    nArCOOR        nX  \n",
       "0 -0.160545 -0.323123  \n",
       "1 -0.160545 -0.323123  \n",
       "2 -0.160545 -0.323123  \n",
       "3 -0.160545 -0.323123  \n",
       "4 -0.160545 -0.323123  "
      ]
     },
     "execution_count": 17,
     "metadata": {},
     "output_type": "execute_result"
    }
   ],
   "source": [
    "X_kBestFeatures.head()"
   ]
  },
  {
   "cell_type": "markdown",
   "metadata": {},
   "source": [
    "## 6) Preparation of Training Set and Test Set\n",
    "<p style = \"font-family: Times New Roman\">We split the dataset into training set and test set. For the spilting ratio, what I normally do is see the size of the dataset. If the dataset is relatively small (n < 10000), 70:30 would be a suitable choice. If the dataset is relatively large, say n > 10000, then choose 80:20. In this case, we have 1055 instances, so we choose to split the dataset into 70% for training and 30% for testing.</p>"
   ]
  },
  {
   "cell_type": "code",
   "execution_count": 18,
   "metadata": {},
   "outputs": [
    {
     "name": "stdout",
     "output_type": "stream",
     "text": [
      "(738, 30)\n",
      "(317, 30)\n"
     ]
    }
   ],
   "source": [
    "from sklearn.model_selection import train_test_split\n",
    "seed_num = 10\n",
    "\n",
    "X_train, X_test, y_train, y_test = train_test_split(X_kBestFeatures, y, test_size=0.3, random_state=seed_num)\n",
    "\n",
    "print(X_train.shape)\n",
    "print(X_test.shape)"
   ]
  },
  {
   "cell_type": "markdown",
   "metadata": {},
   "source": [
    "## 7) Basic Model Building(Baseline Validation Performance)"
   ]
  },
  {
   "cell_type": "markdown",
   "metadata": {},
   "source": [
    "Before going further, I like to see how various different models perform with default parameters. In this project, 14 different ML models/classifiers was built:\n",
    "1. k-Nearest Neighbors\n",
    "2. Perceptron\n",
    "3. Logistic Regression\n",
    "4. Decision Tree\n",
    "5. Support Vector Classifier\n",
    "6. Gaussian Naive Bayes\n",
    "7. Random Forest\n",
    "8. Ridge Classifier\n",
    "9. PassiveAggressiveClassifier\n",
    "10. Multi-layer Perceptron Classifier\n",
    "11. Gradient Boosting Classifier\n",
    "12. AdaBoostClassifier\n",
    "13. BaggingClassifier\n",
    "14. Ensemble Voting Classifier"
   ]
  },
  {
   "cell_type": "code",
   "execution_count": 19,
   "metadata": {},
   "outputs": [],
   "source": [
    "from sklearn.model_selection import cross_val_score\n",
    "from sklearn.neighbors import KNeighborsClassifier\n",
    "from sklearn.linear_model import Perceptron\n",
    "from sklearn.linear_model import LogisticRegression\n",
    "from sklearn.tree import DecisionTreeClassifier\n",
    "from sklearn.svm import SVC\n",
    "from sklearn.naive_bayes import GaussianNB\n",
    "from sklearn.ensemble import RandomForestClassifier\n",
    "from sklearn.linear_model import RidgeClassifier\n",
    "from sklearn.linear_model import PassiveAggressiveClassifier\n",
    "from sklearn.neural_network import MLPClassifier\n",
    "from sklearn.ensemble import GradientBoostingClassifier\n",
    "from sklearn.ensemble import AdaBoostClassifier\n",
    "from sklearn.ensemble import BaggingClassifier"
   ]
  },
  {
   "cell_type": "code",
   "execution_count": 20,
   "metadata": {},
   "outputs": [],
   "source": [
    "knn = KNeighborsClassifier(n_jobs=-1)\n",
    "pcpt = Perceptron(random_state=seed_num, n_jobs=-1)\n",
    "lr = LogisticRegression(random_state=seed_num, n_jobs=-1)\n",
    "dt = DecisionTreeClassifier(random_state = seed_num)\n",
    "svc = SVC(probability=True, random_state=seed_num)\n",
    "gnb = GaussianNB()\n",
    "rf = RandomForestClassifier(random_state = seed_num, n_jobs=-1)\n",
    "rid = RidgeClassifier(random_state=seed_num)\n",
    "pac = PassiveAggressiveClassifier(random_state=seed_num, n_jobs=-1)\n",
    "mlp = MLPClassifier(random_state=seed_num)\n",
    "gbc = GradientBoostingClassifier(random_state=seed_num)\n",
    "ada = AdaBoostClassifier(random_state=seed_num)\n",
    "bag = BaggingClassifier(random_state=seed_num, n_jobs=-1)"
   ]
  },
  {
   "cell_type": "code",
   "execution_count": 21,
   "metadata": {},
   "outputs": [],
   "source": [
    "from sklearn.ensemble import VotingClassifier\n",
    "vot = VotingClassifier(estimators = [('knn',knn),('pcpt',pcpt),('lr',lr),('dt',dt),('svc',svc),('gnb',gnb),('rf',rf),('rid',rid),('pac',pac),('mlp',mlp),('gbc',gbc),('ada',ada),('bag',bag)], n_jobs=-1)"
   ]
  },
  {
   "cell_type": "markdown",
   "metadata": {},
   "source": [
    "<span style = \"font-family: Times New Roman\">\n",
    "    <div style = \"text-align: justify\">Because of the slight imbalance of target class, we cannot solely depend on accuracy as our performance metrics. Therefore we must also consider not only accuracy, but also precision, recall and F1 score as our performance metric of the classifiers. We are also going to create our custom performance metric called average which will take the mean of all metrics(accuracy, precision, recall and F1 score). Then, we will choose the best model by taking the model which scored with the highest average. This is because we want our best model not only with high accuracy, but also with high precision, high recall and high F1 score as well, to ensure that the target class not only is well predicted but also can be highly trustable at the same time.</div>\n",
    "</span>"
   ]
  },
  {
   "cell_type": "code",
   "execution_count": 22,
   "metadata": {},
   "outputs": [],
   "source": [
    "from sklearn.metrics import accuracy_score, recall_score, precision_score, f1_score\n",
    "\n",
    "def fit_and_get_performance(algo, X_train, y_train, X_test, y_test):\n",
    "    \n",
    "    model = algo.fit(X_train, y_train)\n",
    "    y_pred = algo.predict(X_test)\n",
    "    \n",
    "    accuracy = accuracy_score(y_test, y_pred)\n",
    "    precision = precision_score(y_test, y_pred)\n",
    "    recall = recall_score(y_test, y_pred)\n",
    "    f1 = f1_score(y_test, y_pred)\n",
    "    \n",
    "    # this is a custom metric which take the average of all the performance metric\n",
    "    average = (accuracy + precision + recall + f1)/4 \n",
    "    \n",
    "    row = [accuracy, precision, recall, f1, average]\n",
    "    return row"
   ]
  },
  {
   "cell_type": "code",
   "execution_count": 23,
   "metadata": {},
   "outputs": [],
   "source": [
    "# Initialize the data frame for stroring the performance of all models later on\n",
    "column_names = ['Models', 'Accuracy', 'Precision', 'Recall', 'F1 score', 'Average']\n",
    "basic_models_scores = pd.DataFrame(columns = column_names)\n",
    "tuned_models_scores = pd.DataFrame(columns = column_names)"
   ]
  },
  {
   "cell_type": "code",
   "execution_count": 24,
   "metadata": {},
   "outputs": [],
   "source": [
    "model = [knn, pcpt, lr, dt, svc, gnb, rf, rid, pac, mlp, gbc, ada, bag, vot]\n",
    "model_name = ['k-Nearest Neighbors',\n",
    "              'Perceptron',\n",
    "              'Logistic Regression', \n",
    "              'Decision Tree', \n",
    "              'Support Vector Classifier', \n",
    "              'Gaussian Naive Bayes', \n",
    "              'Random Forest', \n",
    "              'Ridge Classifier',\n",
    "              'Passive Aggressive Classifier',\n",
    "              'Multi-layer Perceptron Classifier',\n",
    "              'Gradient Boosting Classifier',\n",
    "              'AdaBoost Classifier',\n",
    "              'Bagging Classifier',\n",
    "              'Voting Classifier'\n",
    "             ]\n",
    "\n",
    "i=0\n",
    "for m in model:\n",
    "    scores = fit_and_get_performance(m, X_train, y_train, X_test, y_test)\n",
    "    row = [model_name[i]] + scores\n",
    "    basic_models_scores.loc[i+1] = row\n",
    "    i+=1"
   ]
  },
  {
   "cell_type": "code",
   "execution_count": 25,
   "metadata": {},
   "outputs": [
    {
     "data": {
      "text/html": [
       "<div>\n",
       "<style scoped>\n",
       "    .dataframe tbody tr th:only-of-type {\n",
       "        vertical-align: middle;\n",
       "    }\n",
       "\n",
       "    .dataframe tbody tr th {\n",
       "        vertical-align: top;\n",
       "    }\n",
       "\n",
       "    .dataframe thead th {\n",
       "        text-align: right;\n",
       "    }\n",
       "</style>\n",
       "<table border=\"1\" class=\"dataframe\">\n",
       "  <thead>\n",
       "    <tr style=\"text-align: right;\">\n",
       "      <th></th>\n",
       "      <th>Models</th>\n",
       "      <th>Accuracy</th>\n",
       "      <th>Precision</th>\n",
       "      <th>Recall</th>\n",
       "      <th>F1 score</th>\n",
       "      <th>Average</th>\n",
       "    </tr>\n",
       "  </thead>\n",
       "  <tbody>\n",
       "    <tr>\n",
       "      <th>14</th>\n",
       "      <td>Voting Classifier</td>\n",
       "      <td>0.895899</td>\n",
       "      <td>0.891304</td>\n",
       "      <td>0.780952</td>\n",
       "      <td>0.832487</td>\n",
       "      <td>0.850161</td>\n",
       "    </tr>\n",
       "    <tr>\n",
       "      <th>10</th>\n",
       "      <td>Multi-layer Perceptron Classifier</td>\n",
       "      <td>0.892744</td>\n",
       "      <td>0.873684</td>\n",
       "      <td>0.790476</td>\n",
       "      <td>0.830000</td>\n",
       "      <td>0.846726</td>\n",
       "    </tr>\n",
       "    <tr>\n",
       "      <th>3</th>\n",
       "      <td>Logistic Regression</td>\n",
       "      <td>0.876972</td>\n",
       "      <td>0.843750</td>\n",
       "      <td>0.771429</td>\n",
       "      <td>0.805970</td>\n",
       "      <td>0.824530</td>\n",
       "    </tr>\n",
       "    <tr>\n",
       "      <th>5</th>\n",
       "      <td>Support Vector Classifier</td>\n",
       "      <td>0.870662</td>\n",
       "      <td>0.855556</td>\n",
       "      <td>0.733333</td>\n",
       "      <td>0.789744</td>\n",
       "      <td>0.812324</td>\n",
       "    </tr>\n",
       "    <tr>\n",
       "      <th>13</th>\n",
       "      <td>Bagging Classifier</td>\n",
       "      <td>0.867508</td>\n",
       "      <td>0.846154</td>\n",
       "      <td>0.733333</td>\n",
       "      <td>0.785714</td>\n",
       "      <td>0.808177</td>\n",
       "    </tr>\n",
       "    <tr>\n",
       "      <th>9</th>\n",
       "      <td>Passive Aggressive Classifier</td>\n",
       "      <td>0.858044</td>\n",
       "      <td>0.788462</td>\n",
       "      <td>0.780952</td>\n",
       "      <td>0.784689</td>\n",
       "      <td>0.803037</td>\n",
       "    </tr>\n",
       "    <tr>\n",
       "      <th>11</th>\n",
       "      <td>Gradient Boosting Classifier</td>\n",
       "      <td>0.864353</td>\n",
       "      <td>0.852273</td>\n",
       "      <td>0.714286</td>\n",
       "      <td>0.777202</td>\n",
       "      <td>0.802028</td>\n",
       "    </tr>\n",
       "    <tr>\n",
       "      <th>12</th>\n",
       "      <td>AdaBoost Classifier</td>\n",
       "      <td>0.861199</td>\n",
       "      <td>0.842697</td>\n",
       "      <td>0.714286</td>\n",
       "      <td>0.773196</td>\n",
       "      <td>0.797844</td>\n",
       "    </tr>\n",
       "    <tr>\n",
       "      <th>8</th>\n",
       "      <td>Ridge Classifier</td>\n",
       "      <td>0.854890</td>\n",
       "      <td>0.810526</td>\n",
       "      <td>0.733333</td>\n",
       "      <td>0.770000</td>\n",
       "      <td>0.792187</td>\n",
       "    </tr>\n",
       "    <tr>\n",
       "      <th>1</th>\n",
       "      <td>k-Nearest Neighbors</td>\n",
       "      <td>0.851735</td>\n",
       "      <td>0.790000</td>\n",
       "      <td>0.752381</td>\n",
       "      <td>0.770732</td>\n",
       "      <td>0.791212</td>\n",
       "    </tr>\n",
       "    <tr>\n",
       "      <th>7</th>\n",
       "      <td>Random Forest</td>\n",
       "      <td>0.851735</td>\n",
       "      <td>0.837209</td>\n",
       "      <td>0.685714</td>\n",
       "      <td>0.753927</td>\n",
       "      <td>0.782146</td>\n",
       "    </tr>\n",
       "    <tr>\n",
       "      <th>6</th>\n",
       "      <td>Gaussian Naive Bayes</td>\n",
       "      <td>0.788644</td>\n",
       "      <td>0.620253</td>\n",
       "      <td>0.933333</td>\n",
       "      <td>0.745247</td>\n",
       "      <td>0.771869</td>\n",
       "    </tr>\n",
       "    <tr>\n",
       "      <th>2</th>\n",
       "      <td>Perceptron</td>\n",
       "      <td>0.832808</td>\n",
       "      <td>0.770833</td>\n",
       "      <td>0.704762</td>\n",
       "      <td>0.736318</td>\n",
       "      <td>0.761180</td>\n",
       "    </tr>\n",
       "    <tr>\n",
       "      <th>4</th>\n",
       "      <td>Decision Tree</td>\n",
       "      <td>0.804416</td>\n",
       "      <td>0.704762</td>\n",
       "      <td>0.704762</td>\n",
       "      <td>0.704762</td>\n",
       "      <td>0.729676</td>\n",
       "    </tr>\n",
       "  </tbody>\n",
       "</table>\n",
       "</div>"
      ],
      "text/plain": [
       "                               Models  Accuracy  Precision    Recall  \\\n",
       "14                  Voting Classifier  0.895899   0.891304  0.780952   \n",
       "10  Multi-layer Perceptron Classifier  0.892744   0.873684  0.790476   \n",
       "3                 Logistic Regression  0.876972   0.843750  0.771429   \n",
       "5           Support Vector Classifier  0.870662   0.855556  0.733333   \n",
       "13                 Bagging Classifier  0.867508   0.846154  0.733333   \n",
       "9       Passive Aggressive Classifier  0.858044   0.788462  0.780952   \n",
       "11       Gradient Boosting Classifier  0.864353   0.852273  0.714286   \n",
       "12                AdaBoost Classifier  0.861199   0.842697  0.714286   \n",
       "8                    Ridge Classifier  0.854890   0.810526  0.733333   \n",
       "1                 k-Nearest Neighbors  0.851735   0.790000  0.752381   \n",
       "7                       Random Forest  0.851735   0.837209  0.685714   \n",
       "6                Gaussian Naive Bayes  0.788644   0.620253  0.933333   \n",
       "2                          Perceptron  0.832808   0.770833  0.704762   \n",
       "4                       Decision Tree  0.804416   0.704762  0.704762   \n",
       "\n",
       "    F1 score   Average  \n",
       "14  0.832487  0.850161  \n",
       "10  0.830000  0.846726  \n",
       "3   0.805970  0.824530  \n",
       "5   0.789744  0.812324  \n",
       "13  0.785714  0.808177  \n",
       "9   0.784689  0.803037  \n",
       "11  0.777202  0.802028  \n",
       "12  0.773196  0.797844  \n",
       "8   0.770000  0.792187  \n",
       "1   0.770732  0.791212  \n",
       "7   0.753927  0.782146  \n",
       "6   0.745247  0.771869  \n",
       "2   0.736318  0.761180  \n",
       "4   0.704762  0.729676  "
      ]
     },
     "execution_count": 25,
     "metadata": {},
     "output_type": "execute_result"
    }
   ],
   "source": [
    "basic_models_scores.sort_values(by='Average', ascending=False)"
   ]
  },
  {
   "cell_type": "markdown",
   "metadata": {},
   "source": [
    "## 7) Models tuning"
   ]
  },
  {
   "cell_type": "code",
   "execution_count": 26,
   "metadata": {},
   "outputs": [],
   "source": [
    "from sklearn.model_selection import cross_val_score\n",
    "from sklearn.model_selection import GridSearchCV"
   ]
  },
  {
   "cell_type": "markdown",
   "metadata": {},
   "source": [
    "### k-Nearest Neighbors"
   ]
  },
  {
   "cell_type": "code",
   "execution_count": 27,
   "metadata": {},
   "outputs": [
    {
     "name": "stdout",
     "output_type": "stream",
     "text": [
      "Fitting 5 folds for each of 160 candidates, totalling 800 fits\n"
     ]
    },
    {
     "name": "stderr",
     "output_type": "stream",
     "text": [
      "[Parallel(n_jobs=-1)]: Using backend LokyBackend with 8 concurrent workers.\n",
      "[Parallel(n_jobs=-1)]: Done  56 tasks      | elapsed:    0.4s\n",
      "[Parallel(n_jobs=-1)]: Done 656 tasks      | elapsed:    4.7s\n",
      "[Parallel(n_jobs=-1)]: Done 800 out of 800 | elapsed:    5.7s finished\n"
     ]
    },
    {
     "data": {
      "text/plain": [
       "{'algorithm': 'auto', 'n_neighbors': 5, 'p': 1, 'weights': 'distance'}"
      ]
     },
     "execution_count": 27,
     "metadata": {},
     "output_type": "execute_result"
    }
   ],
   "source": [
    "param_grid = {'n_neighbors' : np.arange(1,20,2),\n",
    "              'p' : [1,2],\n",
    "              'weights': ['uniform', 'distance'],\n",
    "              'algorithm': ['auto', 'ball_tree', 'kd_tree', 'brute']\n",
    "             }\n",
    "\n",
    "clf_knn = GridSearchCV(knn, param_grid = param_grid, cv = 5, verbose = True, n_jobs = -1, scoring =['accuracy','precision','recall','f1'], refit='f1')\n",
    "best_clf_knn = clf_knn.fit(X_train, y_train)\n",
    "best_knn = best_clf_knn.best_estimator_\n",
    "best_clf_knn.best_params_"
   ]
  },
  {
   "cell_type": "markdown",
   "metadata": {},
   "source": [
    "### Perceptron"
   ]
  },
  {
   "cell_type": "code",
   "execution_count": 28,
   "metadata": {},
   "outputs": [
    {
     "name": "stderr",
     "output_type": "stream",
     "text": [
      "[Parallel(n_jobs=-1)]: Using backend LokyBackend with 8 concurrent workers.\n"
     ]
    },
    {
     "name": "stdout",
     "output_type": "stream",
     "text": [
      "Fitting 5 folds for each of 2592 candidates, totalling 12960 fits\n"
     ]
    },
    {
     "name": "stderr",
     "output_type": "stream",
     "text": [
      "[Parallel(n_jobs=-1)]: Done  56 tasks      | elapsed:    0.2s\n",
      "[Parallel(n_jobs=-1)]: Done 2160 tasks      | elapsed:    6.7s\n",
      "[Parallel(n_jobs=-1)]: Done 6160 tasks      | elapsed:   18.4s\n",
      "[Parallel(n_jobs=-1)]: Done 11760 tasks      | elapsed:   34.6s\n",
      "[Parallel(n_jobs=-1)]: Done 12960 out of 12960 | elapsed:   38.4s finished\n"
     ]
    },
    {
     "data": {
      "text/plain": [
       "{'alpha': 0.0001,\n",
       " 'class_weight': None,\n",
       " 'early_stopping': True,\n",
       " 'eta0': 5,\n",
       " 'max_iter': 1000,\n",
       " 'penalty': 'l2',\n",
       " 'tol': 0.001,\n",
       " 'warm_start': False}"
      ]
     },
     "execution_count": 28,
     "metadata": {},
     "output_type": "execute_result"
    }
   ],
   "source": [
    "param_grid = {'penalty' : [None, 'l1', 'l2', 'elasticnet'],\n",
    "              'alpha' : [0.0001, 0.00001, 0.001],\n",
    "              'max_iter' : [1000, 500, 1500],\n",
    "              'tol': [1e-3, 1e-4, 1e-2],\n",
    "              'eta0': [1, 5, 0.1],\n",
    "              'early_stopping': [False, True],\n",
    "              'class_weight': [None, 'balanced'],\n",
    "              'warm_start': [False, True]\n",
    "             }\n",
    "clf_pcpt = GridSearchCV(pcpt, param_grid = param_grid, cv = 5, verbose = True, n_jobs = -1, scoring =['accuracy','precision','recall','f1'], refit='f1')\n",
    "best_clf_pcpt = clf_pcpt.fit(X_train, y_train)\n",
    "best_pcpt = best_clf_pcpt.best_estimator_\n",
    "best_clf_pcpt.best_params_"
   ]
  },
  {
   "cell_type": "markdown",
   "metadata": {},
   "source": [
    "### Logistic Regression"
   ]
  },
  {
   "cell_type": "code",
   "execution_count": 29,
   "metadata": {},
   "outputs": [
    {
     "name": "stderr",
     "output_type": "stream",
     "text": [
      "[Parallel(n_jobs=-1)]: Using backend LokyBackend with 8 concurrent workers.\n"
     ]
    },
    {
     "name": "stdout",
     "output_type": "stream",
     "text": [
      "Fitting 5 folds for each of 2430 candidates, totalling 12150 fits\n"
     ]
    },
    {
     "name": "stderr",
     "output_type": "stream",
     "text": [
      "[Parallel(n_jobs=-1)]: Done  56 tasks      | elapsed:    0.6s\n",
      "[Parallel(n_jobs=-1)]: Done 1872 tasks      | elapsed:    9.6s\n",
      "[Parallel(n_jobs=-1)]: Done 3974 tasks      | elapsed:   21.5s\n",
      "[Parallel(n_jobs=-1)]: Done 6736 tasks      | elapsed:   35.8s\n",
      "[Parallel(n_jobs=-1)]: Done 10292 tasks      | elapsed:   59.2s\n",
      "[Parallel(n_jobs=-1)]: Done 12150 out of 12150 | elapsed:  1.2min finished\n"
     ]
    },
    {
     "data": {
      "text/plain": [
       "{'C': 5,\n",
       " 'class_weight': None,\n",
       " 'max_iter': 100,\n",
       " 'multi_class': 'auto',\n",
       " 'penalty': 'l1',\n",
       " 'solver': 'liblinear',\n",
       " 'tol': 0.001}"
      ]
     },
     "execution_count": 29,
     "metadata": {},
     "output_type": "execute_result"
    }
   ],
   "source": [
    "param_grid = {'penalty' : ['l2', 'l1', 'elasticnet'],\n",
    "              'tol': [1e-4, 1e-5, 1e-3],\n",
    "              'C' : [1, 0.1, 5],\n",
    "              'max_iter' : [100, 50, 200],\n",
    "              'class_weight': [None, 'balanced'],\n",
    "              'solver': ['lbfgs', 'liblinear', 'sag', 'saga', 'newton-cg'],\n",
    "              'multi_class': ['auto', 'ovr', 'multinomial']\n",
    "             }\n",
    "\n",
    "clf_lr = GridSearchCV(lr, param_grid = param_grid, cv = 5, verbose = True, n_jobs = -1, scoring =['accuracy','precision','recall','f1'], refit='f1')\n",
    "best_clf_lr = clf_lr.fit(X_train, y_train)\n",
    "best_lr = best_clf_lr.best_estimator_\n",
    "best_clf_lr.best_params_"
   ]
  },
  {
   "cell_type": "markdown",
   "metadata": {},
   "source": [
    "### Decision Tree"
   ]
  },
  {
   "cell_type": "code",
   "execution_count": 30,
   "metadata": {},
   "outputs": [
    {
     "name": "stderr",
     "output_type": "stream",
     "text": [
      "[Parallel(n_jobs=-1)]: Using backend LokyBackend with 8 concurrent workers.\n"
     ]
    },
    {
     "name": "stdout",
     "output_type": "stream",
     "text": [
      "Fitting 5 folds for each of 3200 candidates, totalling 16000 fits\n"
     ]
    },
    {
     "name": "stderr",
     "output_type": "stream",
     "text": [
      "[Parallel(n_jobs=-1)]: Done  56 tasks      | elapsed:    0.2s\n",
      "[Parallel(n_jobs=-1)]: Done 1200 tasks      | elapsed:    3.2s\n",
      "[Parallel(n_jobs=-1)]: Done 3200 tasks      | elapsed:    8.0s\n",
      "[Parallel(n_jobs=-1)]: Done 6000 tasks      | elapsed:   14.9s\n",
      "[Parallel(n_jobs=-1)]: Done 9600 tasks      | elapsed:   23.8s\n",
      "[Parallel(n_jobs=-1)]: Done 14000 tasks      | elapsed:   35.1s\n",
      "[Parallel(n_jobs=-1)]: Done 16000 out of 16000 | elapsed:   40.7s finished\n"
     ]
    },
    {
     "data": {
      "text/plain": [
       "{'class_weight': 'balanced',\n",
       " 'criterion': 'gini',\n",
       " 'max_depth': 7,\n",
       " 'max_features': None,\n",
       " 'min_samples_leaf': 1,\n",
       " 'min_samples_split': 3,\n",
       " 'splitter': 'best'}"
      ]
     },
     "execution_count": 30,
     "metadata": {},
     "output_type": "execute_result"
    }
   ],
   "source": [
    "param_grid =  {'criterion':['gini','entropy'],\n",
    "               'splitter': ['best', 'random'],\n",
    "               'max_depth': np.arange(3,8,1),\n",
    "               'min_samples_leaf': np.arange(1,5,1),\n",
    "               'min_samples_split': np.arange(3,8,1),\n",
    "               'max_features': [None, 'auto', 'sqrt', 'log2'],\n",
    "               'class_weight': [None, 'balanced']\n",
    "              }\n",
    "                                  \n",
    "clf_dt = GridSearchCV(dt, param_grid = param_grid, cv = 5, verbose = True, n_jobs = -1, scoring =['accuracy','precision','recall','f1'], refit='f1')\n",
    "best_clf_dt = clf_dt.fit(X_train, y_train)\n",
    "best_dt = best_clf_dt.best_estimator_\n",
    "best_clf_dt.best_params_"
   ]
  },
  {
   "cell_type": "markdown",
   "metadata": {},
   "source": [
    "### Support Vector Machine(Support Vector Classsifier)"
   ]
  },
  {
   "cell_type": "code",
   "execution_count": 31,
   "metadata": {},
   "outputs": [
    {
     "name": "stdout",
     "output_type": "stream",
     "text": [
      "Fitting 5 folds for each of 432 candidates, totalling 2160 fits\n"
     ]
    },
    {
     "name": "stderr",
     "output_type": "stream",
     "text": [
      "[Parallel(n_jobs=-1)]: Using backend LokyBackend with 8 concurrent workers.\n",
      "[Parallel(n_jobs=-1)]: Done  52 tasks      | elapsed:    0.9s\n",
      "[Parallel(n_jobs=-1)]: Done 352 tasks      | elapsed:    5.7s\n",
      "[Parallel(n_jobs=-1)]: Done 852 tasks      | elapsed:   13.5s\n",
      "[Parallel(n_jobs=-1)]: Done 1552 tasks      | elapsed:   26.8s\n",
      "[Parallel(n_jobs=-1)]: Done 2145 out of 2160 | elapsed:   47.5s remaining:    0.2s\n",
      "[Parallel(n_jobs=-1)]: Done 2160 out of 2160 | elapsed:   48.7s finished\n"
     ]
    },
    {
     "data": {
      "text/plain": [
       "{'C': 5,\n",
       " 'degree': 3,\n",
       " 'gamma': 'scale',\n",
       " 'kernel': 'rbf',\n",
       " 'shrinking': True,\n",
       " 'tol': 0.01}"
      ]
     },
     "execution_count": 31,
     "metadata": {},
     "output_type": "execute_result"
    }
   ],
   "source": [
    "param_grid =  {'C': [0.1, 1, 5],\n",
    "               'kernel': ['rbf','linear','poly','sigmoid'],  \n",
    "               'degree': [3, 2, 4], \n",
    "               'gamma': ['scale', 'auto'],\n",
    "               'shrinking': [True, False],\n",
    "               'tol': [1e-3, 1e-4, 1e-2],\n",
    "              }\n",
    "clf_svc = GridSearchCV(svc, param_grid = param_grid, cv = 5, verbose = True, n_jobs = -1, scoring =['accuracy','precision','recall','f1'], refit='f1')\n",
    "best_clf_svc = clf_svc.fit(X_train, y_train)\n",
    "best_svc = best_clf_svc.best_estimator_\n",
    "best_clf_svc.best_params_"
   ]
  },
  {
   "cell_type": "markdown",
   "metadata": {},
   "source": [
    "### Gaussian Naive Bayes"
   ]
  },
  {
   "cell_type": "code",
   "execution_count": 32,
   "metadata": {},
   "outputs": [
    {
     "name": "stderr",
     "output_type": "stream",
     "text": [
      "[Parallel(n_jobs=-1)]: Using backend LokyBackend with 8 concurrent workers.\n"
     ]
    },
    {
     "name": "stdout",
     "output_type": "stream",
     "text": [
      "Fitting 5 folds for each of 100 candidates, totalling 500 fits\n"
     ]
    },
    {
     "name": "stderr",
     "output_type": "stream",
     "text": [
      "[Parallel(n_jobs=-1)]: Done  56 tasks      | elapsed:    0.1s\n",
      "[Parallel(n_jobs=-1)]: Done 500 out of 500 | elapsed:    1.0s finished\n"
     ]
    },
    {
     "data": {
      "text/plain": [
       "{'var_smoothing': 0.003511191734215131}"
      ]
     },
     "execution_count": 32,
     "metadata": {},
     "output_type": "execute_result"
    }
   ],
   "source": [
    "param_grid =  {'var_smoothing': np.logspace(-1,-10, num=100)}\n",
    "clf_gnb = GridSearchCV(gnb, param_grid = param_grid, cv = 5, verbose = True, n_jobs = -1, scoring =['accuracy','precision','recall','f1'], refit='f1')\n",
    "best_clf_gnb = clf_gnb.fit(X_train, y_train)\n",
    "best_gnb = best_clf_gnb.best_estimator_\n",
    "best_clf_gnb.best_params_"
   ]
  },
  {
   "cell_type": "markdown",
   "metadata": {},
   "source": [
    "### Random Forest"
   ]
  },
  {
   "cell_type": "markdown",
   "metadata": {},
   "source": [
    "<p style = \"font-family: Times New Roman\">Because the total feature space is so large, I used a randomized search to narrow down the paramters for the model. I took the best model from this and did a more granular search.</p>"
   ]
  },
  {
   "cell_type": "code",
   "execution_count": 33,
   "metadata": {},
   "outputs": [
    {
     "name": "stderr",
     "output_type": "stream",
     "text": [
      "[Parallel(n_jobs=-1)]: Using backend LokyBackend with 8 concurrent workers.\n"
     ]
    },
    {
     "name": "stdout",
     "output_type": "stream",
     "text": [
      "Fitting 5 folds for each of 100 candidates, totalling 500 fits\n"
     ]
    },
    {
     "name": "stderr",
     "output_type": "stream",
     "text": [
      "[Parallel(n_jobs=-1)]: Done  34 tasks      | elapsed:   11.2s\n",
      "[Parallel(n_jobs=-1)]: Done 184 tasks      | elapsed:  1.1min\n",
      "[Parallel(n_jobs=-1)]: Done 434 tasks      | elapsed:  2.7min\n",
      "[Parallel(n_jobs=-1)]: Done 500 out of 500 | elapsed:  3.1min finished\n"
     ]
    },
    {
     "data": {
      "text/plain": [
       "{'n_estimators': 1000,\n",
       " 'min_samples_split': 2,\n",
       " 'min_samples_leaf': 1,\n",
       " 'max_features': 'auto',\n",
       " 'max_depth': None}"
      ]
     },
     "execution_count": 33,
     "metadata": {},
     "output_type": "execute_result"
    }
   ],
   "source": [
    "from sklearn.model_selection import RandomizedSearchCV\n",
    "\n",
    "param_grid =  {'n_estimators': [100, 500, 1000], \n",
    "               'max_depth': [5, 10, 20, None],\n",
    "               'max_features': ['auto','sqrt','log2'],\n",
    "               'min_samples_leaf': [1, 5, 9],\n",
    "               'min_samples_split': [2, 5, 10]\n",
    "              }\n",
    "                                  \n",
    "clf_rf_rand = RandomizedSearchCV(rf, param_distributions = param_grid, n_iter = 100, cv = 5, verbose = True, n_jobs = -1, random_state = seed_num)\n",
    "best_clf_rf_rand = clf_rf_rand.fit(X_train, y_train)\n",
    "best_clf_rf_rand.best_params_"
   ]
  },
  {
   "cell_type": "code",
   "execution_count": 34,
   "metadata": {},
   "outputs": [
    {
     "name": "stdout",
     "output_type": "stream",
     "text": [
      "Fitting 5 folds for each of 12 candidates, totalling 60 fits\n"
     ]
    },
    {
     "name": "stderr",
     "output_type": "stream",
     "text": [
      "[Parallel(n_jobs=-1)]: Using backend LokyBackend with 8 concurrent workers.\n",
      "[Parallel(n_jobs=-1)]: Done  34 tasks      | elapsed:   18.1s\n",
      "[Parallel(n_jobs=-1)]: Done  60 out of  60 | elapsed:   36.2s finished\n"
     ]
    },
    {
     "data": {
      "text/plain": [
       "{'criterion': 'entropy',\n",
       " 'max_depth': None,\n",
       " 'max_features': 'auto',\n",
       " 'min_samples_leaf': 1,\n",
       " 'min_samples_split': 2,\n",
       " 'n_estimators': 1000}"
      ]
     },
     "execution_count": 34,
     "metadata": {},
     "output_type": "execute_result"
    }
   ],
   "source": [
    "param_grid =  {\n",
    "               'n_estimators': [1000], \n",
    "               'max_depth': [None],\n",
    "               'max_features': ['auto'],\n",
    "               'min_samples_leaf': [1,2],\n",
    "               'min_samples_split': [1,2,3],\n",
    "               'criterion':['gini','entropy'],\n",
    "              }\n",
    "                                  \n",
    "clf_rf = GridSearchCV(rf, param_grid = param_grid, cv = 5, verbose = True, n_jobs = -1, scoring =['accuracy','precision','recall','f1'], refit='f1')\n",
    "best_clf_rf = clf_rf.fit(X_train, y_train)\n",
    "best_rf = best_clf_rf.best_estimator_\n",
    "best_clf_rf.best_params_"
   ]
  },
  {
   "cell_type": "markdown",
   "metadata": {},
   "source": [
    "### Ridge Classifier"
   ]
  },
  {
   "cell_type": "code",
   "execution_count": 35,
   "metadata": {},
   "outputs": [
    {
     "name": "stdout",
     "output_type": "stream",
     "text": [
      "Fitting 5 folds for each of 1260 candidates, totalling 6300 fits\n"
     ]
    },
    {
     "name": "stderr",
     "output_type": "stream",
     "text": [
      "[Parallel(n_jobs=-1)]: Using backend LokyBackend with 8 concurrent workers.\n",
      "[Parallel(n_jobs=-1)]: Done  56 tasks      | elapsed:    0.2s\n",
      "[Parallel(n_jobs=-1)]: Done 1200 tasks      | elapsed:    8.3s\n",
      "[Parallel(n_jobs=-1)]: Done 3200 tasks      | elapsed:   22.9s\n",
      "[Parallel(n_jobs=-1)]: Done 6000 tasks      | elapsed:   41.8s\n",
      "[Parallel(n_jobs=-1)]: Done 6300 out of 6300 | elapsed:   44.0s finished\n"
     ]
    },
    {
     "data": {
      "text/plain": [
       "{'alpha': 0.1,\n",
       " 'class_weight': None,\n",
       " 'fit_intercept': True,\n",
       " 'max_iter': None,\n",
       " 'solver': 'sparse_cg',\n",
       " 'tol': 0.01}"
      ]
     },
     "execution_count": 35,
     "metadata": {},
     "output_type": "execute_result"
    }
   ],
   "source": [
    "param_grid =  {\n",
    "               'alpha': [1, 0.1, 5],\n",
    "               'tol': [1e-3, 1e-4, 1e-2],\n",
    "               'solver': ['auto', 'svd', 'cholesky', 'lsqr', 'sparse_cg', 'sag', 'saga'],\n",
    "               'class_weight': [None, 'balanced'],\n",
    "               'max_iter': [None, 100, 200, 500, 1000],\n",
    "               'fit_intercept': [True, False],\n",
    "              }\n",
    "                                  \n",
    "clf_rid = GridSearchCV(rid, param_grid = param_grid, cv = 5, verbose = True, n_jobs = -1, scoring =['accuracy','precision','recall','f1'], refit='f1')\n",
    "best_clf_rid = clf_rid.fit(X_train, y_train)\n",
    "best_rid = best_clf_rid.best_estimator_\n",
    "best_clf_rid.best_params_"
   ]
  },
  {
   "cell_type": "markdown",
   "metadata": {},
   "source": [
    "### Passive Aggressive Classifier"
   ]
  },
  {
   "cell_type": "code",
   "execution_count": 36,
   "metadata": {},
   "outputs": [
    {
     "name": "stderr",
     "output_type": "stream",
     "text": [
      "[Parallel(n_jobs=-1)]: Using backend LokyBackend with 8 concurrent workers.\n"
     ]
    },
    {
     "name": "stdout",
     "output_type": "stream",
     "text": [
      "Fitting 5 folds for each of 576 candidates, totalling 2880 fits\n"
     ]
    },
    {
     "name": "stderr",
     "output_type": "stream",
     "text": [
      "[Parallel(n_jobs=-1)]: Done  56 tasks      | elapsed:    0.2s\n",
      "[Parallel(n_jobs=-1)]: Done 2160 tasks      | elapsed:    5.5s\n",
      "[Parallel(n_jobs=-1)]: Done 2880 out of 2880 | elapsed:    7.3s finished\n"
     ]
    },
    {
     "data": {
      "text/plain": [
       "{'C': 0.1,\n",
       " 'average': True,\n",
       " 'class_weight': None,\n",
       " 'early_stopping': False,\n",
       " 'fit_intercept': True,\n",
       " 'max_iter': 1000,\n",
       " 'tol': 0.001}"
      ]
     },
     "execution_count": 36,
     "metadata": {},
     "output_type": "execute_result"
    }
   ],
   "source": [
    "param_grid =  {\n",
    "               'C': [1, 0.1, 5],\n",
    "               'max_iter': [1000, 500, 1500, None],\n",
    "               'tol': [1e-3, 1e-4, 1e-2],\n",
    "               'class_weight': [None, 'balanced'],\n",
    "               'fit_intercept': [True, False],\n",
    "               'average': [True, False],\n",
    "               'early_stopping': [False, True]\n",
    "              }\n",
    "                                  \n",
    "clf_pac = GridSearchCV(pac, param_grid = param_grid, cv = 5, verbose = True, n_jobs = -1, scoring =['accuracy','precision','recall','f1'], refit='f1')\n",
    "best_clf_pac = clf_pac.fit(X_train, y_train)\n",
    "best_pac = best_clf_pac.best_estimator_\n",
    "best_clf_pac.best_params_"
   ]
  },
  {
   "cell_type": "markdown",
   "metadata": {},
   "source": [
    "### Multi-layer Perceptron Classifier"
   ]
  },
  {
   "cell_type": "code",
   "execution_count": 37,
   "metadata": {},
   "outputs": [
    {
     "name": "stderr",
     "output_type": "stream",
     "text": [
      "[Parallel(n_jobs=-1)]: Using backend LokyBackend with 8 concurrent workers.\n"
     ]
    },
    {
     "name": "stdout",
     "output_type": "stream",
     "text": [
      "Fitting 5 folds for each of 54 candidates, totalling 270 fits\n"
     ]
    },
    {
     "name": "stderr",
     "output_type": "stream",
     "text": [
      "[Parallel(n_jobs=-1)]: Done  34 tasks      | elapsed:    6.2s\n",
      "[Parallel(n_jobs=-1)]: Done 184 tasks      | elapsed:   39.3s\n",
      "[Parallel(n_jobs=-1)]: Done 270 out of 270 | elapsed:   58.6s finished\n"
     ]
    },
    {
     "data": {
      "text/plain": [
       "{'alpha': 0.0001, 'batch_size': 128, 'hidden_layer_sizes': 150, 'tol': 0.0001}"
      ]
     },
     "execution_count": 37,
     "metadata": {},
     "output_type": "execute_result"
    }
   ],
   "source": [
    "param_grid =  {\n",
    "               'hidden_layer_sizes': [100, 50, 150],\n",
    "               'alpha': [0.0001, 0.001, 0.00001],\n",
    "               'tol': [1e-4, 1e-3, 1e-5],\n",
    "               'batch_size': [256, 128],\n",
    "              }\n",
    "                                  \n",
    "clf_mlp = GridSearchCV(mlp, param_grid = param_grid, cv = 5, verbose = True, n_jobs = -1, scoring =['accuracy','precision','recall','f1'], refit='f1')\n",
    "best_clf_mlp = clf_mlp.fit(X_train, y_train)\n",
    "best_mlp = best_clf_mlp.best_estimator_\n",
    "best_clf_mlp.best_params_"
   ]
  },
  {
   "cell_type": "markdown",
   "metadata": {},
   "source": [
    "### Gradient Boosting Classifier"
   ]
  },
  {
   "cell_type": "code",
   "execution_count": 38,
   "metadata": {},
   "outputs": [
    {
     "name": "stdout",
     "output_type": "stream",
     "text": [
      "Fitting 5 folds for each of 200 candidates, totalling 1000 fits\n"
     ]
    },
    {
     "name": "stderr",
     "output_type": "stream",
     "text": [
      "[Parallel(n_jobs=-1)]: Using backend LokyBackend with 8 concurrent workers.\n",
      "[Parallel(n_jobs=-1)]: Done  34 tasks      | elapsed:    1.4s\n",
      "[Parallel(n_jobs=-1)]: Done 184 tasks      | elapsed:    8.1s\n",
      "[Parallel(n_jobs=-1)]: Done 434 tasks      | elapsed:   19.2s\n",
      "[Parallel(n_jobs=-1)]: Done 784 tasks      | elapsed:   39.0s\n",
      "[Parallel(n_jobs=-1)]: Done 1000 out of 1000 | elapsed:   49.0s finished\n"
     ]
    },
    {
     "data": {
      "text/plain": [
       "{'tol': 0.001,\n",
       " 'n_estimators': 50,\n",
       " 'min_samples_split': 5,\n",
       " 'min_samples_leaf': 5,\n",
       " 'max_features': 'sqrt',\n",
       " 'max_depth': 5,\n",
       " 'learning_rate': 0.1}"
      ]
     },
     "execution_count": 38,
     "metadata": {},
     "output_type": "execute_result"
    }
   ],
   "source": [
    "param_grid =  {\n",
    "                'learning_rate': [0.1, 1, 0.01],\n",
    "                'n_estimators': [100, 50, 200],\n",
    "                'min_samples_split': [2,5,10],\n",
    "                'min_samples_leaf': [1,5,9],\n",
    "                'max_depth': [3,1,5],\n",
    "                'tol': [1e-4, 1e-3, 1e-5],\n",
    "                'max_features': [None, 'auto', 'sqrt', 'log2']\n",
    "              }\n",
    "                                  \n",
    "clf_gbc_rand = RandomizedSearchCV(gbc, param_distributions = param_grid, n_iter = 200, cv = 5, verbose = True, n_jobs = -1, random_state = seed_num)\n",
    "best_clf_gbc = clf_gbc_rand.fit(X_train, y_train)\n",
    "best_gbc = best_clf_gbc.best_estimator_\n",
    "best_clf_gbc.best_params_"
   ]
  },
  {
   "cell_type": "code",
   "execution_count": 39,
   "metadata": {},
   "outputs": [
    {
     "name": "stdout",
     "output_type": "stream",
     "text": [
      "Fitting 5 folds for each of 81 candidates, totalling 405 fits\n"
     ]
    },
    {
     "name": "stderr",
     "output_type": "stream",
     "text": [
      "[Parallel(n_jobs=-1)]: Using backend LokyBackend with 8 concurrent workers.\n",
      "[Parallel(n_jobs=-1)]: Done  34 tasks      | elapsed:    0.9s\n",
      "[Parallel(n_jobs=-1)]: Done 184 tasks      | elapsed:    4.3s\n",
      "[Parallel(n_jobs=-1)]: Done 405 out of 405 | elapsed:    9.5s finished\n"
     ]
    },
    {
     "data": {
      "text/plain": [
       "{'learning_rate': 0.5,\n",
       " 'max_depth': 5,\n",
       " 'max_features': 'sqrt',\n",
       " 'min_samples_leaf': 3,\n",
       " 'min_samples_split': 3,\n",
       " 'n_estimators': 50,\n",
       " 'tol': 0.001}"
      ]
     },
     "execution_count": 39,
     "metadata": {},
     "output_type": "execute_result"
    }
   ],
   "source": [
    "param_grid =  {\n",
    "               'learning_rate': [0.1, 0.5, 0.05],\n",
    "                'n_estimators': [50],\n",
    "                'min_samples_split': [3,5,7],\n",
    "                'min_samples_leaf': [3,5,7],\n",
    "                'max_depth': [5],\n",
    "                'tol': [1e-3, 5e-3, 5e-4],\n",
    "                'max_features': ['sqrt']\n",
    "              }\n",
    "                                  \n",
    "clf_gbc = GridSearchCV(gbc, param_grid = param_grid, cv = 5, verbose = True, n_jobs = -1, scoring =['accuracy','precision','recall','f1'], refit='f1')\n",
    "best_clf_gbc = clf_gbc.fit(X_train, y_train)\n",
    "best_clf_gbc.best_params_"
   ]
  },
  {
   "cell_type": "markdown",
   "metadata": {},
   "source": [
    "### Ada Boost Classifier"
   ]
  },
  {
   "cell_type": "code",
   "execution_count": 40,
   "metadata": {},
   "outputs": [
    {
     "name": "stdout",
     "output_type": "stream",
     "text": [
      "Fitting 5 folds for each of 36 candidates, totalling 180 fits\n"
     ]
    },
    {
     "name": "stderr",
     "output_type": "stream",
     "text": [
      "[Parallel(n_jobs=-1)]: Using backend LokyBackend with 8 concurrent workers.\n",
      "[Parallel(n_jobs=-1)]: Done  34 tasks      | elapsed:    5.6s\n",
      "[Parallel(n_jobs=-1)]: Done 180 out of 180 | elapsed:  2.2min finished\n"
     ]
    },
    {
     "data": {
      "text/plain": [
       "{'base_estimator': DecisionTreeClassifier(class_weight='balanced', max_depth=7,\n",
       "                        min_samples_split=3, random_state=10),\n",
       " 'learning_rate': 1,\n",
       " 'n_estimators': 50}"
      ]
     },
     "execution_count": 40,
     "metadata": {},
     "output_type": "execute_result"
    }
   ],
   "source": [
    "param_grid =  {\n",
    "               'base_estimator': [best_dt, best_lr, best_svc, best_gnb],\n",
    "               'n_estimators': [50, 100, 150],\n",
    "               'learning_rate':[1, 0.1, 0.01],\n",
    "              }\n",
    "                                  \n",
    "clf_ada = GridSearchCV(ada, param_grid = param_grid, cv = 5, verbose = True, n_jobs = -1, scoring =['accuracy','precision','recall','f1'], refit='f1')\n",
    "best_clf_ada = clf_ada.fit(X_train, y_train)\n",
    "best_ada = best_clf_ada.best_estimator_\n",
    "best_clf_ada.best_params_"
   ]
  },
  {
   "cell_type": "markdown",
   "metadata": {},
   "source": [
    "### BaggingClassifier"
   ]
  },
  {
   "cell_type": "code",
   "execution_count": 41,
   "metadata": {},
   "outputs": [
    {
     "name": "stdout",
     "output_type": "stream",
     "text": [
      "Fitting 5 folds for each of 288 candidates, totalling 1440 fits\n"
     ]
    },
    {
     "name": "stderr",
     "output_type": "stream",
     "text": [
      "[Parallel(n_jobs=-1)]: Using backend LokyBackend with 8 concurrent workers.\n",
      "[Parallel(n_jobs=-1)]: Done  56 tasks      | elapsed:    0.8s\n",
      "[Parallel(n_jobs=-1)]: Done 478 tasks      | elapsed:   10.4s\n",
      "[Parallel(n_jobs=-1)]: Done 980 tasks      | elapsed:   21.5s\n",
      "[Parallel(n_jobs=-1)]: Done 1440 out of 1440 | elapsed:   38.5s finished\n"
     ]
    },
    {
     "data": {
      "text/plain": [
       "{'base_estimator': KNeighborsClassifier(n_jobs=-1, p=1, weights='distance'),\n",
       " 'bootstrap': False,\n",
       " 'bootstrap_features': False,\n",
       " 'n_estimators': 10,\n",
       " 'oob_score': False,\n",
       " 'warm_start': False}"
      ]
     },
     "execution_count": 41,
     "metadata": {},
     "output_type": "execute_result"
    }
   ],
   "source": [
    "param_grid =  {\n",
    "               'base_estimator': [best_dt, best_knn, best_pcpt, best_lr, best_svc, best_gnb],\n",
    "               'n_estimators':[10, 5, 15],\n",
    "               'bootstrap': [True,False],\n",
    "               'bootstrap_features': [False,True],\n",
    "               'oob_score': [False,True],\n",
    "               'warm_start': [False,True]\n",
    "              }\n",
    "\n",
    "clf_bag = GridSearchCV(bag, param_grid = param_grid, cv = 5, verbose = True, n_jobs = -1, scoring =['accuracy','precision','recall','f1'], refit='f1')\n",
    "best_clf_bag = clf_bag.fit(X_train, y_train)\n",
    "best_bag = best_clf_bag.best_estimator_\n",
    "best_clf_bag.best_params_"
   ]
  },
  {
   "cell_type": "markdown",
   "metadata": {},
   "source": [
    "### Voting Classifier"
   ]
  },
  {
   "cell_type": "code",
   "execution_count": 42,
   "metadata": {},
   "outputs": [],
   "source": [
    "tuned_model = [best_knn, best_pcpt, best_lr, best_dt, best_svc, best_gnb, best_rf, best_rid, best_pac, best_mlp, best_gbc, best_ada, best_bag]\n",
    "model_name = ['k-Nearest Neighbors',\n",
    "              'Perceptron',\n",
    "              'Logistic Regression', \n",
    "              'Decision Tree', \n",
    "              'Support Vector Classifier', \n",
    "              'Gaussian Naive Bayes', \n",
    "              'Random Forest', \n",
    "              'Ridge Classifier',\n",
    "              'Passive Aggressive Classifier',\n",
    "              'Multi-layer Perceptron Classifier',\n",
    "              'Gradient Boosting Classifier',\n",
    "              'AdaBoost Classifier',\n",
    "              'Bagging Classifier',\n",
    "              'Voting Classifier'\n",
    "             ]\n",
    "\n",
    "i=0\n",
    "for m in tuned_model:\n",
    "    scores = fit_and_get_performance(m, X_train, y_train, X_test, y_test)\n",
    "    row = [model_name[i]] + scores\n",
    "    tuned_models_scores.loc[i+1] = row\n",
    "    i+=1"
   ]
  },
  {
   "cell_type": "code",
   "execution_count": 43,
   "metadata": {},
   "outputs": [
    {
     "data": {
      "text/html": [
       "<div>\n",
       "<style scoped>\n",
       "    .dataframe tbody tr th:only-of-type {\n",
       "        vertical-align: middle;\n",
       "    }\n",
       "\n",
       "    .dataframe tbody tr th {\n",
       "        vertical-align: top;\n",
       "    }\n",
       "\n",
       "    .dataframe thead th {\n",
       "        text-align: right;\n",
       "    }\n",
       "</style>\n",
       "<table border=\"1\" class=\"dataframe\">\n",
       "  <thead>\n",
       "    <tr style=\"text-align: right;\">\n",
       "      <th></th>\n",
       "      <th>Models</th>\n",
       "      <th>Accuracy</th>\n",
       "      <th>Precision</th>\n",
       "      <th>Recall</th>\n",
       "      <th>F1 score</th>\n",
       "      <th>Average</th>\n",
       "    </tr>\n",
       "  </thead>\n",
       "  <tbody>\n",
       "    <tr>\n",
       "      <th>10</th>\n",
       "      <td>Multi-layer Perceptron Classifier</td>\n",
       "      <td>0.895899</td>\n",
       "      <td>0.882979</td>\n",
       "      <td>0.790476</td>\n",
       "      <td>0.834171</td>\n",
       "      <td>0.850881</td>\n",
       "    </tr>\n",
       "    <tr>\n",
       "      <th>5</th>\n",
       "      <td>Support Vector Classifier</td>\n",
       "      <td>0.889590</td>\n",
       "      <td>0.872340</td>\n",
       "      <td>0.780952</td>\n",
       "      <td>0.824121</td>\n",
       "      <td>0.841751</td>\n",
       "    </tr>\n",
       "    <tr>\n",
       "      <th>9</th>\n",
       "      <td>Passive Aggressive Classifier</td>\n",
       "      <td>0.876972</td>\n",
       "      <td>0.836735</td>\n",
       "      <td>0.780952</td>\n",
       "      <td>0.807882</td>\n",
       "      <td>0.825635</td>\n",
       "    </tr>\n",
       "    <tr>\n",
       "      <th>3</th>\n",
       "      <td>Logistic Regression</td>\n",
       "      <td>0.873817</td>\n",
       "      <td>0.815534</td>\n",
       "      <td>0.800000</td>\n",
       "      <td>0.807692</td>\n",
       "      <td>0.824261</td>\n",
       "    </tr>\n",
       "    <tr>\n",
       "      <th>12</th>\n",
       "      <td>AdaBoost Classifier</td>\n",
       "      <td>0.851735</td>\n",
       "      <td>0.790000</td>\n",
       "      <td>0.752381</td>\n",
       "      <td>0.770732</td>\n",
       "      <td>0.791212</td>\n",
       "    </tr>\n",
       "    <tr>\n",
       "      <th>1</th>\n",
       "      <td>k-Nearest Neighbors</td>\n",
       "      <td>0.845426</td>\n",
       "      <td>0.754545</td>\n",
       "      <td>0.790476</td>\n",
       "      <td>0.772093</td>\n",
       "      <td>0.790635</td>\n",
       "    </tr>\n",
       "    <tr>\n",
       "      <th>13</th>\n",
       "      <td>Bagging Classifier</td>\n",
       "      <td>0.845426</td>\n",
       "      <td>0.754545</td>\n",
       "      <td>0.790476</td>\n",
       "      <td>0.772093</td>\n",
       "      <td>0.790635</td>\n",
       "    </tr>\n",
       "    <tr>\n",
       "      <th>8</th>\n",
       "      <td>Ridge Classifier</td>\n",
       "      <td>0.851735</td>\n",
       "      <td>0.802083</td>\n",
       "      <td>0.733333</td>\n",
       "      <td>0.766169</td>\n",
       "      <td>0.788330</td>\n",
       "    </tr>\n",
       "    <tr>\n",
       "      <th>7</th>\n",
       "      <td>Random Forest</td>\n",
       "      <td>0.854890</td>\n",
       "      <td>0.839080</td>\n",
       "      <td>0.695238</td>\n",
       "      <td>0.760417</td>\n",
       "      <td>0.787406</td>\n",
       "    </tr>\n",
       "    <tr>\n",
       "      <th>11</th>\n",
       "      <td>Gradient Boosting Classifier</td>\n",
       "      <td>0.851735</td>\n",
       "      <td>0.829545</td>\n",
       "      <td>0.695238</td>\n",
       "      <td>0.756477</td>\n",
       "      <td>0.783249</td>\n",
       "    </tr>\n",
       "    <tr>\n",
       "      <th>6</th>\n",
       "      <td>Gaussian Naive Bayes</td>\n",
       "      <td>0.785489</td>\n",
       "      <td>0.616352</td>\n",
       "      <td>0.933333</td>\n",
       "      <td>0.742424</td>\n",
       "      <td>0.769400</td>\n",
       "    </tr>\n",
       "    <tr>\n",
       "      <th>4</th>\n",
       "      <td>Decision Tree</td>\n",
       "      <td>0.810726</td>\n",
       "      <td>0.699115</td>\n",
       "      <td>0.752381</td>\n",
       "      <td>0.724771</td>\n",
       "      <td>0.746748</td>\n",
       "    </tr>\n",
       "    <tr>\n",
       "      <th>2</th>\n",
       "      <td>Perceptron</td>\n",
       "      <td>0.769716</td>\n",
       "      <td>0.758065</td>\n",
       "      <td>0.447619</td>\n",
       "      <td>0.562874</td>\n",
       "      <td>0.634568</td>\n",
       "    </tr>\n",
       "  </tbody>\n",
       "</table>\n",
       "</div>"
      ],
      "text/plain": [
       "                               Models  Accuracy  Precision    Recall  \\\n",
       "10  Multi-layer Perceptron Classifier  0.895899   0.882979  0.790476   \n",
       "5           Support Vector Classifier  0.889590   0.872340  0.780952   \n",
       "9       Passive Aggressive Classifier  0.876972   0.836735  0.780952   \n",
       "3                 Logistic Regression  0.873817   0.815534  0.800000   \n",
       "12                AdaBoost Classifier  0.851735   0.790000  0.752381   \n",
       "1                 k-Nearest Neighbors  0.845426   0.754545  0.790476   \n",
       "13                 Bagging Classifier  0.845426   0.754545  0.790476   \n",
       "8                    Ridge Classifier  0.851735   0.802083  0.733333   \n",
       "7                       Random Forest  0.854890   0.839080  0.695238   \n",
       "11       Gradient Boosting Classifier  0.851735   0.829545  0.695238   \n",
       "6                Gaussian Naive Bayes  0.785489   0.616352  0.933333   \n",
       "4                       Decision Tree  0.810726   0.699115  0.752381   \n",
       "2                          Perceptron  0.769716   0.758065  0.447619   \n",
       "\n",
       "    F1 score   Average  \n",
       "10  0.834171  0.850881  \n",
       "5   0.824121  0.841751  \n",
       "9   0.807882  0.825635  \n",
       "3   0.807692  0.824261  \n",
       "12  0.770732  0.791212  \n",
       "1   0.772093  0.790635  \n",
       "13  0.772093  0.790635  \n",
       "8   0.766169  0.788330  \n",
       "7   0.760417  0.787406  \n",
       "11  0.756477  0.783249  \n",
       "6   0.742424  0.769400  \n",
       "4   0.724771  0.746748  \n",
       "2   0.562874  0.634568  "
      ]
     },
     "execution_count": 43,
     "metadata": {},
     "output_type": "execute_result"
    }
   ],
   "source": [
    "tuned_models_scores.sort_values(by='Average', ascending=False)"
   ]
  },
  {
   "cell_type": "code",
   "execution_count": 44,
   "metadata": {},
   "outputs": [
    {
     "name": "stdout",
     "output_type": "stream",
     "text": [
      "Fitting 5 folds for each of 6 candidates, totalling 30 fits\n"
     ]
    },
    {
     "name": "stderr",
     "output_type": "stream",
     "text": [
      "[Parallel(n_jobs=-1)]: Using backend LokyBackend with 8 concurrent workers.\n",
      "[Parallel(n_jobs=-1)]: Done  30 out of  30 | elapsed:   43.9s finished\n"
     ]
    },
    {
     "data": {
      "text/plain": [
       "{'weights': [1, 1, 1, 1, 1, 1, 1, 0, 0, 0, 0, 0, 0]}"
      ]
     },
     "execution_count": 44,
     "metadata": {},
     "output_type": "execute_result"
    }
   ],
   "source": [
    "vot = VotingClassifier(estimators = [('mlp',best_mlp),('svc',best_svc),('pac',best_pac),('lr',best_lr),('ada',best_ada),('knn',best_knn),('bag',best_bag),('rid',best_rid),('rf',best_rf),('gbc',gbc),('gnb',best_gnb),('dt',best_dt),('pcpt',best_pcpt)], n_jobs=-1)\n",
    "params = {'weights' : [ [1,1,1,0,0,0,0,0,0,0,0,0,0],\n",
    "                        [1,1,1,1,1,0,0,0,0,0,0,0,0],\n",
    "                        [1,1,1,1,1,1,1,0,0,0,0,0,0],\n",
    "                        [1,1,1,1,1,1,1,1,1,0,0,0,0],\n",
    "                        [1,1,1,1,1,1,1,1,1,1,1,0,0],\n",
    "                        [1,1,1,1,1,1,1,1,1,1,1,1,1] \n",
    "                      ]\n",
    "          }\n",
    "\n",
    "clf_vot = GridSearchCV(vot, param_grid = params, cv = 5, verbose = True, n_jobs = -1, scoring =['accuracy','precision','recall','f1'], refit='f1')\n",
    "best_clf_vot = clf_vot.fit(X_train, y_train)\n",
    "best_clf_vot.best_params_"
   ]
  },
  {
   "cell_type": "code",
   "execution_count": 57,
   "metadata": {},
   "outputs": [
    {
     "name": "stdout",
     "output_type": "stream",
     "text": [
      "Fitting 5 folds for each of 7 candidates, totalling 35 fits\n"
     ]
    },
    {
     "name": "stderr",
     "output_type": "stream",
     "text": [
      "[Parallel(n_jobs=-1)]: Using backend LokyBackend with 8 concurrent workers.\n",
      "[Parallel(n_jobs=-1)]: Done  35 out of  35 | elapsed:   16.8s finished\n"
     ]
    },
    {
     "data": {
      "text/plain": [
       "{'weights': [1.5, 1.5, 1, 1, 1, 1, 1]}"
      ]
     },
     "execution_count": 57,
     "metadata": {},
     "output_type": "execute_result"
    }
   ],
   "source": [
    "vot = VotingClassifier(estimators = [('mlp',best_mlp),('svc',best_svc),('pac',best_pac),('lr',best_lr),('ada',best_ada),('knn',best_knn),('bag',best_bag)], n_jobs=-1)\n",
    "params = {'weights' : [ [1,1,1,1,1,1,1], \n",
    "                        [1.5,1,1,1,1,1,1],\n",
    "                        [1.5,1.5,1,1,1,1,1],\n",
    "                        [1.5,1.5,1.5,1,1,1,1],\n",
    "                        [1.5,1.5,1.5,1.5,1,1,1],\n",
    "                        [1.5,1.5,1.5,1.5,1.5,1,1],\n",
    "                        [1.5,1.5,1.5,1.5,1.5,1.5,1]\n",
    "                      ]\n",
    "          }\n",
    "\n",
    "clf_vot = GridSearchCV(vot, param_grid = params, cv = 5, verbose = True, n_jobs = -1, scoring =['accuracy','precision','recall','f1'], refit='f1')\n",
    "best_clf_vot = clf_vot.fit(X_train, y_train)\n",
    "best_vot = best_clf_vot.best_estimator_\n",
    "best_clf_vot.best_params_"
   ]
  },
  {
   "cell_type": "code",
   "execution_count": 58,
   "metadata": {},
   "outputs": [],
   "source": [
    "scores = fit_and_get_performance(best_vot, X_train, y_train, X_test, y_test)\n",
    "row = [model_name[13]] + scores\n",
    "tuned_models_scores.loc[14] = row"
   ]
  },
  {
   "cell_type": "markdown",
   "metadata": {},
   "source": [
    "## 8) Best model selection"
   ]
  },
  {
   "cell_type": "markdown",
   "metadata": {},
   "source": [
    "<p style = \"font-family: Times New Roman\">Here, we can visualize the performance of all models at once. The score will be sorted by Average score so that we can compare their performance for which model perform the best with highest overall score.</p>"
   ]
  },
  {
   "cell_type": "code",
   "execution_count": 59,
   "metadata": {},
   "outputs": [
    {
     "data": {
      "text/html": [
       "<div>\n",
       "<style scoped>\n",
       "    .dataframe tbody tr th:only-of-type {\n",
       "        vertical-align: middle;\n",
       "    }\n",
       "\n",
       "    .dataframe tbody tr th {\n",
       "        vertical-align: top;\n",
       "    }\n",
       "\n",
       "    .dataframe thead th {\n",
       "        text-align: right;\n",
       "    }\n",
       "</style>\n",
       "<table border=\"1\" class=\"dataframe\">\n",
       "  <thead>\n",
       "    <tr style=\"text-align: right;\">\n",
       "      <th></th>\n",
       "      <th>Models</th>\n",
       "      <th>Accuracy</th>\n",
       "      <th>Precision</th>\n",
       "      <th>Recall</th>\n",
       "      <th>F1 score</th>\n",
       "      <th>Average</th>\n",
       "    </tr>\n",
       "  </thead>\n",
       "  <tbody>\n",
       "    <tr>\n",
       "      <th>10</th>\n",
       "      <td>Multi-layer Perceptron Classifier</td>\n",
       "      <td>0.895899</td>\n",
       "      <td>0.882979</td>\n",
       "      <td>0.790476</td>\n",
       "      <td>0.834171</td>\n",
       "      <td>0.850881</td>\n",
       "    </tr>\n",
       "    <tr>\n",
       "      <th>5</th>\n",
       "      <td>Support Vector Classifier</td>\n",
       "      <td>0.889590</td>\n",
       "      <td>0.872340</td>\n",
       "      <td>0.780952</td>\n",
       "      <td>0.824121</td>\n",
       "      <td>0.841751</td>\n",
       "    </tr>\n",
       "    <tr>\n",
       "      <th>14</th>\n",
       "      <td>Voting Classifier</td>\n",
       "      <td>0.886435</td>\n",
       "      <td>0.870968</td>\n",
       "      <td>0.771429</td>\n",
       "      <td>0.818182</td>\n",
       "      <td>0.836753</td>\n",
       "    </tr>\n",
       "    <tr>\n",
       "      <th>9</th>\n",
       "      <td>Passive Aggressive Classifier</td>\n",
       "      <td>0.876972</td>\n",
       "      <td>0.836735</td>\n",
       "      <td>0.780952</td>\n",
       "      <td>0.807882</td>\n",
       "      <td>0.825635</td>\n",
       "    </tr>\n",
       "    <tr>\n",
       "      <th>3</th>\n",
       "      <td>Logistic Regression</td>\n",
       "      <td>0.873817</td>\n",
       "      <td>0.815534</td>\n",
       "      <td>0.800000</td>\n",
       "      <td>0.807692</td>\n",
       "      <td>0.824261</td>\n",
       "    </tr>\n",
       "    <tr>\n",
       "      <th>12</th>\n",
       "      <td>AdaBoost Classifier</td>\n",
       "      <td>0.851735</td>\n",
       "      <td>0.790000</td>\n",
       "      <td>0.752381</td>\n",
       "      <td>0.770732</td>\n",
       "      <td>0.791212</td>\n",
       "    </tr>\n",
       "    <tr>\n",
       "      <th>1</th>\n",
       "      <td>k-Nearest Neighbors</td>\n",
       "      <td>0.845426</td>\n",
       "      <td>0.754545</td>\n",
       "      <td>0.790476</td>\n",
       "      <td>0.772093</td>\n",
       "      <td>0.790635</td>\n",
       "    </tr>\n",
       "    <tr>\n",
       "      <th>13</th>\n",
       "      <td>Bagging Classifier</td>\n",
       "      <td>0.845426</td>\n",
       "      <td>0.754545</td>\n",
       "      <td>0.790476</td>\n",
       "      <td>0.772093</td>\n",
       "      <td>0.790635</td>\n",
       "    </tr>\n",
       "    <tr>\n",
       "      <th>8</th>\n",
       "      <td>Ridge Classifier</td>\n",
       "      <td>0.851735</td>\n",
       "      <td>0.802083</td>\n",
       "      <td>0.733333</td>\n",
       "      <td>0.766169</td>\n",
       "      <td>0.788330</td>\n",
       "    </tr>\n",
       "    <tr>\n",
       "      <th>7</th>\n",
       "      <td>Random Forest</td>\n",
       "      <td>0.854890</td>\n",
       "      <td>0.839080</td>\n",
       "      <td>0.695238</td>\n",
       "      <td>0.760417</td>\n",
       "      <td>0.787406</td>\n",
       "    </tr>\n",
       "    <tr>\n",
       "      <th>11</th>\n",
       "      <td>Gradient Boosting Classifier</td>\n",
       "      <td>0.851735</td>\n",
       "      <td>0.829545</td>\n",
       "      <td>0.695238</td>\n",
       "      <td>0.756477</td>\n",
       "      <td>0.783249</td>\n",
       "    </tr>\n",
       "    <tr>\n",
       "      <th>6</th>\n",
       "      <td>Gaussian Naive Bayes</td>\n",
       "      <td>0.785489</td>\n",
       "      <td>0.616352</td>\n",
       "      <td>0.933333</td>\n",
       "      <td>0.742424</td>\n",
       "      <td>0.769400</td>\n",
       "    </tr>\n",
       "    <tr>\n",
       "      <th>4</th>\n",
       "      <td>Decision Tree</td>\n",
       "      <td>0.810726</td>\n",
       "      <td>0.699115</td>\n",
       "      <td>0.752381</td>\n",
       "      <td>0.724771</td>\n",
       "      <td>0.746748</td>\n",
       "    </tr>\n",
       "    <tr>\n",
       "      <th>2</th>\n",
       "      <td>Perceptron</td>\n",
       "      <td>0.769716</td>\n",
       "      <td>0.758065</td>\n",
       "      <td>0.447619</td>\n",
       "      <td>0.562874</td>\n",
       "      <td>0.634568</td>\n",
       "    </tr>\n",
       "  </tbody>\n",
       "</table>\n",
       "</div>"
      ],
      "text/plain": [
       "                               Models  Accuracy  Precision    Recall  \\\n",
       "10  Multi-layer Perceptron Classifier  0.895899   0.882979  0.790476   \n",
       "5           Support Vector Classifier  0.889590   0.872340  0.780952   \n",
       "14                  Voting Classifier  0.886435   0.870968  0.771429   \n",
       "9       Passive Aggressive Classifier  0.876972   0.836735  0.780952   \n",
       "3                 Logistic Regression  0.873817   0.815534  0.800000   \n",
       "12                AdaBoost Classifier  0.851735   0.790000  0.752381   \n",
       "1                 k-Nearest Neighbors  0.845426   0.754545  0.790476   \n",
       "13                 Bagging Classifier  0.845426   0.754545  0.790476   \n",
       "8                    Ridge Classifier  0.851735   0.802083  0.733333   \n",
       "7                       Random Forest  0.854890   0.839080  0.695238   \n",
       "11       Gradient Boosting Classifier  0.851735   0.829545  0.695238   \n",
       "6                Gaussian Naive Bayes  0.785489   0.616352  0.933333   \n",
       "4                       Decision Tree  0.810726   0.699115  0.752381   \n",
       "2                          Perceptron  0.769716   0.758065  0.447619   \n",
       "\n",
       "    F1 score   Average  \n",
       "10  0.834171  0.850881  \n",
       "5   0.824121  0.841751  \n",
       "14  0.818182  0.836753  \n",
       "9   0.807882  0.825635  \n",
       "3   0.807692  0.824261  \n",
       "12  0.770732  0.791212  \n",
       "1   0.772093  0.790635  \n",
       "13  0.772093  0.790635  \n",
       "8   0.766169  0.788330  \n",
       "7   0.760417  0.787406  \n",
       "11  0.756477  0.783249  \n",
       "6   0.742424  0.769400  \n",
       "4   0.724771  0.746748  \n",
       "2   0.562874  0.634568  "
      ]
     },
     "execution_count": 59,
     "metadata": {},
     "output_type": "execute_result"
    }
   ],
   "source": [
    "tuned_models_scores.sort_values(by='Average', ascending=False)"
   ]
  },
  {
   "cell_type": "markdown",
   "metadata": {},
   "source": [
    "<p style = \"font-family: Times New Roman\">As we can see, the best model that performs the best on the validation set is actually Multi-layer Perceptron Classifier since it scored the highest average of the performance metrics with value about 0.85 scoring. Below, we can visualize the model performances by plotting a bar graph for the performance metrics of all models while plotting a line graph for average scoring in the same x and y-axis.</p>"
   ]
  },
  {
   "cell_type": "code",
   "execution_count": 61,
   "metadata": {},
   "outputs": [
    {
     "data": {
      "text/plain": [
       "Text(0.5, 1.0, 'Model Performances')"
      ]
     },
     "execution_count": 61,
     "metadata": {},
     "output_type": "execute_result"
    },
    {
     "data": {
      "image/png": "[encoded data removed]",
      "text/plain": [
       "<Figure size 720x360 with 2 Axes>"
      ]
     },
     "metadata": {
      "needs_background": "light"
     },
     "output_type": "display_data"
    }
   ],
   "source": [
    "# Seperate into two data frame (performance_metric and average_performance) \n",
    "tuned_models_scores.index = tuned_models_scores['Models']\n",
    "performance_metric = tuned_models_scores\n",
    "average_performance = tuned_models_scores['Average']\n",
    "performance_metric = performance_metric.drop(columns = 'Average')\n",
    "\n",
    "# Bar plot the performance_metric\n",
    "ax1 = performance_metric.plot.bar()\n",
    "plt.legend(loc=\"upper center\", bbox_to_anchor=(1.3, 0.75), ncol=2)\n",
    "\n",
    "# Line plot the average_performance in the same figure\n",
    "ax2 = ax1.twiny()\n",
    "ax2 = average_performance.plot.line(figsize=(10,5),color='purple')\n",
    "plt.xticks([])\n",
    "plt.xlabel('')\n",
    "\n",
    "# Adjustment of the plotting\n",
    "plt.xticks(rotation=90)\n",
    "plt.legend(loc=\"upper center\", bbox_to_anchor=(1.3, 0.60), ncol=2)\n",
    "plt.ylabel(\"Scoring\")\n",
    "plt.title(\"Model Performances\", fontdict = {\"fontsize\": 20} )"
   ]
  },
  {
   "cell_type": "markdown",
   "metadata": {},
   "source": [
    "<p style = \"font-family: Times New Roman\">We will select Voting Classifier as our best models for this dataset.</p>"
   ]
  },
  {
   "cell_type": "code",
   "execution_count": 62,
   "metadata": {},
   "outputs": [],
   "source": [
    "best_model = best_mlp"
   ]
  },
  {
   "cell_type": "markdown",
   "metadata": {},
   "source": [
    "## 9) Results/Performance of the best Models"
   ]
  },
  {
   "cell_type": "markdown",
   "metadata": {},
   "source": [
    "<p style = \"font-family: Times New Roman\">Finally, we will double-check the best model's performance using the test set.</p>"
   ]
  },
  {
   "cell_type": "code",
   "execution_count": 63,
   "metadata": {},
   "outputs": [
    {
     "data": {
      "text/html": [
       "<div>\n",
       "<style scoped>\n",
       "    .dataframe tbody tr th:only-of-type {\n",
       "        vertical-align: middle;\n",
       "    }\n",
       "\n",
       "    .dataframe tbody tr th {\n",
       "        vertical-align: top;\n",
       "    }\n",
       "\n",
       "    .dataframe thead th {\n",
       "        text-align: right;\n",
       "    }\n",
       "</style>\n",
       "<table border=\"1\" class=\"dataframe\">\n",
       "  <thead>\n",
       "    <tr style=\"text-align: right;\">\n",
       "      <th></th>\n",
       "      <th>Models</th>\n",
       "      <th>Accuracy</th>\n",
       "      <th>Precision</th>\n",
       "      <th>Recall</th>\n",
       "      <th>F1 score</th>\n",
       "      <th>Average</th>\n",
       "    </tr>\n",
       "  </thead>\n",
       "  <tbody>\n",
       "    <tr>\n",
       "      <th>10</th>\n",
       "      <td>Multi-layer Perceptron Classifier</td>\n",
       "      <td>0.895899</td>\n",
       "      <td>0.882979</td>\n",
       "      <td>0.790476</td>\n",
       "      <td>0.834171</td>\n",
       "      <td>0.850881</td>\n",
       "    </tr>\n",
       "  </tbody>\n",
       "</table>\n",
       "</div>"
      ],
      "text/plain": [
       "                               Models  Accuracy  Precision    Recall  \\\n",
       "10  Multi-layer Perceptron Classifier  0.895899   0.882979  0.790476   \n",
       "\n",
       "    F1 score   Average  \n",
       "10  0.834171  0.850881  "
      ]
     },
     "execution_count": 63,
     "metadata": {},
     "output_type": "execute_result"
    }
   ],
   "source": [
    "tuned_models_scores.index = basic_models_scores.index\n",
    "tuned_models_scores.iloc[[10-1]]"
   ]
  },
  {
   "cell_type": "code",
   "execution_count": 64,
   "metadata": {},
   "outputs": [
    {
     "name": "stdout",
     "output_type": "stream",
     "text": [
      "              precision    recall  f1-score   support\n",
      "\n",
      "           0       0.90      0.95      0.92       212\n",
      "           1       0.88      0.79      0.83       105\n",
      "\n",
      "    accuracy                           0.90       317\n",
      "   macro avg       0.89      0.87      0.88       317\n",
      "weighted avg       0.90      0.90      0.89       317\n",
      "\n"
     ]
    },
    {
     "data": {
      "text/plain": [
       "<AxesSubplot:>"
      ]
     },
     "execution_count": 64,
     "metadata": {},
     "output_type": "execute_result"
    },
    {
     "data": {
      "image/png": "[encoded data removed]",
      "text/plain": [
       "<Figure size 432x288 with 2 Axes>"
      ]
     },
     "metadata": {
      "needs_background": "light"
     },
     "output_type": "display_data"
    }
   ],
   "source": [
    "from sklearn.metrics import classification_report, confusion_matrix\n",
    "\n",
    "y_pred = best_model.predict(X_test)\n",
    "print(classification_report(y_test, y_pred))\n",
    "\n",
    "cf_matrix = confusion_matrix(y_test, y_pred)\n",
    "group_names = ['True Neg','False Pos','False Neg','True Pos']\n",
    "group_counts = [\"{0:0.0f}\".format(value) for value in\n",
    "                cf_matrix.flatten()]\n",
    "group_percentages = [\"{0:.2%}\".format(value) for value in\n",
    "                     cf_matrix.flatten()/np.sum(cf_matrix)]\n",
    "labels = [f\"{v1}\\n{v2}\\n{v3}\" for v1, v2, v3 in\n",
    "          zip(group_names,group_counts,group_percentages)]\n",
    "labels = np.asarray(labels).reshape(2,2)\n",
    "sns.heatmap(cf_matrix, annot=labels, cmap='Blues', fmt='')"
   ]
  },
  {
   "cell_type": "markdown",
   "metadata": {},
   "source": [
    "<p style = \"font-family: Times New Roman\">Great! The performance metrics against the test set are almost as high as the validation set. The value of accuracy, precision, recall and F1 score does not change significantly. This implies that the model is consistant while being accurate at the same time. Also, this means that the model does not suffer from overfitting or underfitting problem.</p>"
   ]
  },
  {
   "cell_type": "markdown",
   "metadata": {},
   "source": [
    "## 10) Feature Importance"
   ]
  },
  {
   "cell_type": "markdown",
   "metadata": {},
   "source": [
    "<p style = \"font-family: Times New Roman\">In this section, we will try to see which feature is the most important for Decision Tree model as well as Random Forest model.</p>"
   ]
  },
  {
   "cell_type": "code",
   "execution_count": 65,
   "metadata": {},
   "outputs": [
    {
     "data": {
      "text/html": [
       "<div>\n",
       "<style scoped>\n",
       "    .dataframe tbody tr th:only-of-type {\n",
       "        vertical-align: middle;\n",
       "    }\n",
       "\n",
       "    .dataframe tbody tr th {\n",
       "        vertical-align: top;\n",
       "    }\n",
       "\n",
       "    .dataframe thead th {\n",
       "        text-align: right;\n",
       "    }\n",
       "</style>\n",
       "<table border=\"1\" class=\"dataframe\">\n",
       "  <thead>\n",
       "    <tr style=\"text-align: right;\">\n",
       "      <th></th>\n",
       "      <th>importance</th>\n",
       "    </tr>\n",
       "    <tr>\n",
       "      <th>feature</th>\n",
       "      <th></th>\n",
       "    </tr>\n",
       "  </thead>\n",
       "  <tbody>\n",
       "    <tr>\n",
       "      <th>SpMax_B(m)</th>\n",
       "      <td>0.282</td>\n",
       "    </tr>\n",
       "    <tr>\n",
       "      <th>SpMax_L</th>\n",
       "      <td>0.130</td>\n",
       "    </tr>\n",
       "    <tr>\n",
       "      <th>F02[C-N]</th>\n",
       "      <td>0.094</td>\n",
       "    </tr>\n",
       "    <tr>\n",
       "      <th>SpPosA_B(p)</th>\n",
       "      <td>0.069</td>\n",
       "    </tr>\n",
       "    <tr>\n",
       "      <th>Psi_i_A</th>\n",
       "      <td>0.051</td>\n",
       "    </tr>\n",
       "    <tr>\n",
       "      <th>nN</th>\n",
       "      <td>0.039</td>\n",
       "    </tr>\n",
       "    <tr>\n",
       "      <th>SdssC</th>\n",
       "      <td>0.037</td>\n",
       "    </tr>\n",
       "    <tr>\n",
       "      <th>TI2_L</th>\n",
       "      <td>0.035</td>\n",
       "    </tr>\n",
       "    <tr>\n",
       "      <th>HyWi_B(m)</th>\n",
       "      <td>0.035</td>\n",
       "    </tr>\n",
       "    <tr>\n",
       "      <th>nCrt</th>\n",
       "      <td>0.028</td>\n",
       "    </tr>\n",
       "  </tbody>\n",
       "</table>\n",
       "</div>"
      ],
      "text/plain": [
       "             importance\n",
       "feature                \n",
       "SpMax_B(m)        0.282\n",
       "SpMax_L           0.130\n",
       "F02[C-N]          0.094\n",
       "SpPosA_B(p)       0.069\n",
       "Psi_i_A           0.051\n",
       "nN                0.039\n",
       "SdssC             0.037\n",
       "TI2_L             0.035\n",
       "HyWi_B(m)         0.035\n",
       "nCrt              0.028"
      ]
     },
     "execution_count": 65,
     "metadata": {},
     "output_type": "execute_result"
    }
   ],
   "source": [
    "importances = pd.DataFrame({'feature':X_train.columns,'importance':np.round(best_dt.feature_importances_,3)})\n",
    "importances = importances.sort_values('importance',ascending=False).set_index('feature')\n",
    "importances.head(10)"
   ]
  },
  {
   "cell_type": "code",
   "execution_count": 66,
   "metadata": {},
   "outputs": [
    {
     "data": {
      "text/plain": [
       "<AxesSubplot:xlabel='feature'>"
      ]
     },
     "execution_count": 66,
     "metadata": {},
     "output_type": "execute_result"
    },
    {
     "data": {
      "image/png": "[encoded data removed]",
      "text/plain": [
       "<Figure size 432x288 with 1 Axes>"
      ]
     },
     "metadata": {
      "needs_background": "light"
     },
     "output_type": "display_data"
    }
   ],
   "source": [
    "importances.plot.bar()"
   ]
  },
  {
   "cell_type": "code",
   "execution_count": 67,
   "metadata": {},
   "outputs": [
    {
     "data": {
      "text/html": [
       "<div>\n",
       "<style scoped>\n",
       "    .dataframe tbody tr th:only-of-type {\n",
       "        vertical-align: middle;\n",
       "    }\n",
       "\n",
       "    .dataframe tbody tr th {\n",
       "        vertical-align: top;\n",
       "    }\n",
       "\n",
       "    .dataframe thead th {\n",
       "        text-align: right;\n",
       "    }\n",
       "</style>\n",
       "<table border=\"1\" class=\"dataframe\">\n",
       "  <thead>\n",
       "    <tr style=\"text-align: right;\">\n",
       "      <th></th>\n",
       "      <th>importance</th>\n",
       "    </tr>\n",
       "    <tr>\n",
       "      <th>feature</th>\n",
       "      <th></th>\n",
       "    </tr>\n",
       "  </thead>\n",
       "  <tbody>\n",
       "    <tr>\n",
       "      <th>SpMax_B(m)</th>\n",
       "      <td>0.093</td>\n",
       "    </tr>\n",
       "    <tr>\n",
       "      <th>SpMax_L</th>\n",
       "      <td>0.079</td>\n",
       "    </tr>\n",
       "    <tr>\n",
       "      <th>SpPosA_B(p)</th>\n",
       "      <td>0.076</td>\n",
       "    </tr>\n",
       "    <tr>\n",
       "      <th>SM6_B(m)</th>\n",
       "      <td>0.072</td>\n",
       "    </tr>\n",
       "    <tr>\n",
       "      <th>SpMax_A</th>\n",
       "      <td>0.057</td>\n",
       "    </tr>\n",
       "    <tr>\n",
       "      <th>Psi_i_A</th>\n",
       "      <td>0.052</td>\n",
       "    </tr>\n",
       "    <tr>\n",
       "      <th>Mi</th>\n",
       "      <td>0.045</td>\n",
       "    </tr>\n",
       "    <tr>\n",
       "      <th>SM6_L</th>\n",
       "      <td>0.044</td>\n",
       "    </tr>\n",
       "    <tr>\n",
       "      <th>SdssC</th>\n",
       "      <td>0.044</td>\n",
       "    </tr>\n",
       "    <tr>\n",
       "      <th>HyWi_B(m)</th>\n",
       "      <td>0.041</td>\n",
       "    </tr>\n",
       "  </tbody>\n",
       "</table>\n",
       "</div>"
      ],
      "text/plain": [
       "             importance\n",
       "feature                \n",
       "SpMax_B(m)        0.093\n",
       "SpMax_L           0.079\n",
       "SpPosA_B(p)       0.076\n",
       "SM6_B(m)          0.072\n",
       "SpMax_A           0.057\n",
       "Psi_i_A           0.052\n",
       "Mi                0.045\n",
       "SM6_L             0.044\n",
       "SdssC             0.044\n",
       "HyWi_B(m)         0.041"
      ]
     },
     "execution_count": 67,
     "metadata": {},
     "output_type": "execute_result"
    }
   ],
   "source": [
    "importances = pd.DataFrame({'feature':X_train.columns,'importance':np.round(best_rf.feature_importances_,3)})\n",
    "importances = importances.sort_values('importance',ascending=False).set_index('feature')\n",
    "importances.head(10)"
   ]
  },
  {
   "cell_type": "code",
   "execution_count": 68,
   "metadata": {},
   "outputs": [
    {
     "data": {
      "text/plain": [
       "<AxesSubplot:xlabel='feature'>"
      ]
     },
     "execution_count": 68,
     "metadata": {},
     "output_type": "execute_result"
    },
    {
     "data": {
      "image/png": "[encoded data removed]",
      "text/plain": [
       "<Figure size 432x288 with 1 Axes>"
      ]
     },
     "metadata": {
      "needs_background": "light"
     },
     "output_type": "display_data"
    }
   ],
   "source": [
    "importances.plot.bar()"
   ]
  },
  {
   "cell_type": "markdown",
   "metadata": {},
   "source": [
    "## 11) Model Saving"
   ]
  },
  {
   "cell_type": "markdown",
   "metadata": {},
   "source": [
    "<p style = \"font-family: Times New Roman\">In this section, we will save the best model to disk.</p>"
   ]
  },
  {
   "cell_type": "code",
   "execution_count": 69,
   "metadata": {},
   "outputs": [],
   "source": [
    "import pickle\n",
    "pickle.dump(best_model, open('best_model.pkl','wb'))"
   ]
  }
 ],
 "metadata": {
  "kernelspec": {
   "display_name": "Python 3",
   "language": "python",
   "name": "python3"
  },
  "language_info": {
   "codemirror_mode": {
    "name": "ipython",
    "version": 3
   },
   "file_extension": ".py",
   "mimetype": "text/x-python",
   "name": "python",
   "nbconvert_exporter": "python",
   "pygments_lexer": "ipython3",
   "version": "3.8.5"
  }
 },
 "nbformat": 4,
 "nbformat_minor": 4
}
